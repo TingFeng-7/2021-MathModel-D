{
 "cells": [
  {
   "cell_type": "code",
   "execution_count": 1,
   "id": "commercial-liquid",
   "metadata": {},
   "outputs": [],
   "source": [
    "import numpy as np \n",
    "import pandas as pd\n",
    "from matplotlib import pyplot as plt\n",
    "\n",
    "pd.set_option('display.max_columns', None)\n",
    "#显示所有行\n",
    "pd.set_option('display.max_rows', None)\n",
    "#设置value的显示长度为100，默认为50\n",
    "pd.set_option('max_colwidth',100)\n",
    "#接近完美"
   ]
  },
  {
   "cell_type": "code",
   "execution_count": 2,
   "id": "amateur-plasma",
   "metadata": {},
   "outputs": [],
   "source": [
    "# desc_data=pd.read_excel(\"Molecular_Descriptor.xlsx\")\n",
    "#admet_data=pd.read_excel(\"化合物ADMET.xlsx\")\n",
    "# full_df=pd.merge(desc_data,admet_data,on='SMILES')\n",
    "# full_df.to_csv(\"MD_to_ADMET.csv\",index=False)"
   ]
  },
  {
   "cell_type": "code",
   "execution_count": 3,
   "id": "virgin-ghana",
   "metadata": {},
   "outputs": [
    {
     "data": {
      "text/plain": [
       "(1974, 735)"
      ]
     },
     "execution_count": 3,
     "metadata": {},
     "output_type": "execute_result"
    }
   ],
   "source": [
    "data_df = pd.read_csv(\"MD_to_ADMET.csv\")\n",
    "data_df.shape"
   ]
  },
  {
   "cell_type": "code",
   "execution_count": 4,
   "id": "spatial-closing",
   "metadata": {},
   "outputs": [],
   "source": [
    "target_label = ['Caco-2', 'CYP3A4', 'hERG', 'HOB', 'MN','SMILES']"
   ]
  },
  {
   "cell_type": "code",
   "execution_count": 5,
   "id": "generous-telling",
   "metadata": {},
   "outputs": [],
   "source": [
    "X = data_df.drop(labels=target_label,axis=1)\n",
    "y = data_df['HOB']"
   ]
  },
  {
   "cell_type": "code",
   "execution_count": 6,
   "id": "divine-professor",
   "metadata": {},
   "outputs": [],
   "source": [
    "feature_names = X.columns"
   ]
  },
  {
   "cell_type": "markdown",
   "id": "immune-worry",
   "metadata": {},
   "source": [
    "### 1.分类器准备 XGboost RF随机森林 lightGBM"
   ]
  },
  {
   "cell_type": "markdown",
   "id": "wrong-contrast",
   "metadata": {},
   "source": [
    "### 1.1 数据划分"
   ]
  },
  {
   "cell_type": "code",
   "execution_count": 7,
   "id": "dutch-wedding",
   "metadata": {
    "tags": []
   },
   "outputs": [],
   "source": [
    "from sklearn.preprocessing import MinMaxScaler\n",
    "from sklearn.model_selection import train_test_split\n",
    "\n",
    "#为了减少误差\n",
    "# std1 = MinMaxScaler()\n",
    "# X=std1.fit_transform(X)\n",
    "# std2 = MinMaxScaler()\n",
    "# y=std2.fit_transform(y.values.reshape(-1,1))\n",
    "\n",
    "#训练集 和 验证集 9:1   ;仅仅是分类器\n",
    "x_train,x_test,y_train,y_test = train_test_split(X,y,test_size=0.1,random_state=666) #这里改名字\n",
    "#pd.DataFrame(x_train).head()"
   ]
  },
  {
   "cell_type": "markdown",
   "id": "immune-story",
   "metadata": {},
   "source": [
    "### 1.2 评价指标"
   ]
  },
  {
   "cell_type": "code",
   "execution_count": 8,
   "id": "embedded-maker",
   "metadata": {},
   "outputs": [],
   "source": [
    "#1.2 评价指标\n",
    "from sklearn.metrics import confusion_matrix,f1_score,recall_score,accuracy_score,precision_score\n",
    "\n",
    "def print_score(model,x_train,y_train,x_test,y_test):\n",
    "    print(model.score(x_train,y_train))\n",
    "    print(model.score(x_test,y_test))\n",
    "\n",
    "#误报率的计算\n",
    "def false_alarm_rate(cm):\n",
    "    tn, fp, fn, tp = cm.ravel()\n",
    "    far=fp/(fp+tn)#误报率\n",
    "    return far\n",
    "\n",
    "#返回一串字典 输入真实值和预测值\n",
    "def calc_metrics(true, pred):\n",
    "    #传进来都是df,查准率precison不关注\n",
    "    cm=confusion_matrix(true, pred)\n",
    "    far=false_alarm_rate(cm)*100\n",
    "    accuracy=accuracy_score(true, pred)*100\n",
    "    recall=recall_score(true, pred)*100\n",
    "    f1= f1_score(true, pred)*100\n",
    "    precise = precision_score(true, pred)*100\n",
    "    return {'far':far,'precision':precise,'acc':accuracy,'recall':recall,'f1':f1}\n",
    "\n"
   ]
  },
  {
   "cell_type": "code",
   "execution_count": 9,
   "id": "dental-government",
   "metadata": {},
   "outputs": [],
   "source": [
    "# 1.3 写一个function 返回sklearn中 特征重要性排名和分数 的 dataframe\n",
    "def get_classifer_ranked_feature(clf,feature_names):\n",
    "    name_im = pd.DataFrame({'importance':clf.feature_importances_,'var':feature_names})\n",
    "    name_im = name_im.sort_values(by='importance',ascending=False)\n",
    "    return name_im"
   ]
  },
  {
   "cell_type": "code",
   "execution_count": 29,
   "id": "occupational-arizona",
   "metadata": {},
   "outputs": [
    {
     "name": "stdout",
     "output_type": "stream",
     "text": [
      "[21:37:15] WARNING: C:/Users/Administrator/workspace/xgboost-win64_release_1.4.0/src/learner.cc:1095: Starting in XGBoost 1.3.0, the default evaluation metric used with the objective 'binary:logistic' was changed from 'error' to 'logloss'. Explicitly set eval_metric if you'd like to restore the old behavior.\n",
      "Wall time: 6.91 s\n"
     ]
    },
    {
     "data": {
      "text/plain": [
       "LGBMClassifier()"
      ]
     },
     "execution_count": 29,
     "metadata": {},
     "output_type": "execute_result"
    }
   ],
   "source": [
    "%%time\n",
    "import xgboost as xgb\n",
    "from xgboost import plot_importance\n",
    "from xgboost import XGBClassifier\n",
    "from sklearn.ensemble import RandomForestClassifier\n",
    "import lightgbm as lgb\n",
    "from sklearn.model_selection import GridSearchCV\n",
    "\n",
    "\n",
    "rfc = RandomForestClassifier()\n",
    "xgbc =XGBClassifier(n_estimators=300,max_depth=6,use_label_encoder=False)\n",
    "#n_estimators=100,max_depth=6, n_jobs=-1,learning_rate=0.15\n",
    "\n",
    "#针对light-gbm\n",
    "trn_data = lgb.Dataset(x_train, label = y_train)\n",
    "val_data = lgb.Dataset(x_test, label = y_test)\n",
    "lgbm = lgb.LGBMClassifier()\n",
    "\n",
    "rfc.fit(x_train,y_train)\n",
    "xgbc.fit(x_train,y_train)\n",
    "lgbm.fit(x_train,y_train)"
   ]
  },
  {
   "cell_type": "code",
   "execution_count": 34,
   "id": "contained-equality",
   "metadata": {},
   "outputs": [
    {
     "data": {
      "text/plain": [
       "['hob_lgbm.model']"
      ]
     },
     "execution_count": 34,
     "metadata": {},
     "output_type": "execute_result"
    }
   ],
   "source": [
    "import joblib\n",
    "joblib.dump(lgbm, 'hob_lgbm.model')"
   ]
  },
  {
   "cell_type": "code",
   "execution_count": 30,
   "id": "agricultural-yacht",
   "metadata": {},
   "outputs": [],
   "source": [
    "# print_score(xgbc,x_train,y_train,x_test,y_test)\n",
    "# print_score(rfc,x_train,y_train,x_test,y_test)\n",
    "# print_score(lgbm,x_train,y_train,x_test,y_test)"
   ]
  },
  {
   "cell_type": "code",
   "execution_count": 31,
   "id": "activated-machine",
   "metadata": {},
   "outputs": [
    {
     "name": "stdout",
     "output_type": "stream",
     "text": [
      "lgbm\n",
      "{'far': 0.0, 'precision': 100.0, 'acc': 100.0, 'recall': 100.0, 'f1': 100.0}\n",
      "{'far': 7.096774193548387, 'precision': 75.55555555555556, 'acc': 89.8989898989899, 'recall': 79.06976744186046, 'f1': 77.27272727272727}\n"
     ]
    }
   ],
   "source": [
    "trn_pred = lgbm.predict(x_train)\n",
    "tes_pred =lgbm.predict(x_test)\n",
    "a=calc_metrics(y_train,trn_pred)\n",
    "b=calc_metrics(y_test,tes_pred)\n",
    "print('lgbm')\n",
    "print(a)\n",
    "print(b)"
   ]
  },
  {
   "cell_type": "code",
   "execution_count": 32,
   "id": "desirable-medicaid",
   "metadata": {},
   "outputs": [
    {
     "name": "stdout",
     "output_type": "stream",
     "text": [
      "xgbc\n",
      "{'far': 0.0, 'precision': 100.0, 'acc': 100.0, 'recall': 100.0, 'f1': 100.0}\n",
      "{'far': 7.741935483870968, 'precision': 73.33333333333333, 'acc': 88.88888888888889, 'recall': 76.74418604651163, 'f1': 74.99999999999999}\n"
     ]
    }
   ],
   "source": [
    "trn_pred = xgbc.predict(x_train)\n",
    "tes_pred =xgbc.predict(x_test)\n",
    "a=calc_metrics(y_train,trn_pred)\n",
    "b=calc_metrics(y_test,tes_pred)\n",
    "print('xgbc')\n",
    "print(a)\n",
    "print(b)"
   ]
  },
  {
   "cell_type": "code",
   "execution_count": 33,
   "id": "viral-airport",
   "metadata": {},
   "outputs": [
    {
     "name": "stdout",
     "output_type": "stream",
     "text": [
      "rfc\n",
      "{'far': 0.0, 'precision': 100.0, 'acc': 100.0, 'recall': 100.0, 'f1': 100.0}\n",
      "{'far': 8.38709677419355, 'precision': 69.76744186046511, 'acc': 86.86868686868688, 'recall': 69.76744186046511, 'f1': 69.76744186046511}\n"
     ]
    }
   ],
   "source": [
    "trn_pred = rfc.predict(x_train)\n",
    "tes_pred =rfc.predict(x_test)\n",
    "a=calc_metrics(y_train,trn_pred)\n",
    "b=calc_metrics(y_test,tes_pred)\n",
    "print('rfc')\n",
    "print(a)\n",
    "print(b)"
   ]
  },
  {
   "cell_type": "markdown",
   "id": "continuing-surfing",
   "metadata": {},
   "source": [
    "# 3.选重要的特征"
   ]
  },
  {
   "cell_type": "code",
   "execution_count": 16,
   "id": "cordless-elite",
   "metadata": {},
   "outputs": [],
   "source": [
    "xgbc_fea = get_classifer_ranked_feature(xgbc,feature_names)\n",
    "rfc_fea = get_classifer_ranked_feature(rfc,feature_names)"
   ]
  },
  {
   "cell_type": "code",
   "execution_count": 17,
   "id": "declared-reply",
   "metadata": {},
   "outputs": [
    {
     "data": {
      "text/html": [
       "<div>\n",
       "<style scoped>\n",
       "    .dataframe tbody tr th:only-of-type {\n",
       "        vertical-align: middle;\n",
       "    }\n",
       "\n",
       "    .dataframe tbody tr th {\n",
       "        vertical-align: top;\n",
       "    }\n",
       "\n",
       "    .dataframe thead th {\n",
       "        text-align: right;\n",
       "    }\n",
       "</style>\n",
       "<table border=\"1\" class=\"dataframe\">\n",
       "  <thead>\n",
       "    <tr style=\"text-align: right;\">\n",
       "      <th></th>\n",
       "      <th>importance</th>\n",
       "      <th>var</th>\n",
       "    </tr>\n",
       "  </thead>\n",
       "  <tbody>\n",
       "    <tr>\n",
       "      <th>134</th>\n",
       "      <td>0.045075</td>\n",
       "      <td>nHCsatu</td>\n",
       "    </tr>\n",
       "    <tr>\n",
       "      <th>39</th>\n",
       "      <td>0.042816</td>\n",
       "      <td>BCUTc-1l</td>\n",
       "    </tr>\n",
       "    <tr>\n",
       "      <th>111</th>\n",
       "      <td>0.031323</td>\n",
       "      <td>nHBint3</td>\n",
       "    </tr>\n",
       "    <tr>\n",
       "      <th>529</th>\n",
       "      <td>0.027837</td>\n",
       "      <td>maxsOH</td>\n",
       "    </tr>\n",
       "    <tr>\n",
       "      <th>471</th>\n",
       "      <td>0.023946</td>\n",
       "      <td>maxHBint6</td>\n",
       "    </tr>\n",
       "    <tr>\n",
       "      <th>66</th>\n",
       "      <td>0.023711</td>\n",
       "      <td>SCH-6</td>\n",
       "    </tr>\n",
       "    <tr>\n",
       "      <th>585</th>\n",
       "      <td>0.021712</td>\n",
       "      <td>hmin</td>\n",
       "    </tr>\n",
       "    <tr>\n",
       "      <th>292</th>\n",
       "      <td>0.019919</td>\n",
       "      <td>SdO</td>\n",
       "    </tr>\n",
       "    <tr>\n",
       "      <th>230</th>\n",
       "      <td>0.018329</td>\n",
       "      <td>SHBint3</td>\n",
       "    </tr>\n",
       "    <tr>\n",
       "      <th>349</th>\n",
       "      <td>0.017277</td>\n",
       "      <td>minHBint3</td>\n",
       "    </tr>\n",
       "    <tr>\n",
       "      <th>238</th>\n",
       "      <td>0.016241</td>\n",
       "      <td>SHsOH</td>\n",
       "    </tr>\n",
       "    <tr>\n",
       "      <th>595</th>\n",
       "      <td>0.014534</td>\n",
       "      <td>ETA_AlphaP</td>\n",
       "    </tr>\n",
       "    <tr>\n",
       "      <th>611</th>\n",
       "      <td>0.012318</td>\n",
       "      <td>ETA_Shape_Y</td>\n",
       "    </tr>\n",
       "    <tr>\n",
       "      <th>411</th>\n",
       "      <td>0.012126</td>\n",
       "      <td>mindO</td>\n",
       "    </tr>\n",
       "    <tr>\n",
       "      <th>357</th>\n",
       "      <td>0.011668</td>\n",
       "      <td>minHsOH</td>\n",
       "    </tr>\n",
       "    <tr>\n",
       "      <th>46</th>\n",
       "      <td>0.011293</td>\n",
       "      <td>nBondsS2</td>\n",
       "    </tr>\n",
       "    <tr>\n",
       "      <th>234</th>\n",
       "      <td>0.010956</td>\n",
       "      <td>SHBint7</td>\n",
       "    </tr>\n",
       "    <tr>\n",
       "      <th>237</th>\n",
       "      <td>0.010742</td>\n",
       "      <td>SHBint10</td>\n",
       "    </tr>\n",
       "    <tr>\n",
       "      <th>59</th>\n",
       "      <td>0.010371</td>\n",
       "      <td>C1SP3</td>\n",
       "    </tr>\n",
       "    <tr>\n",
       "      <th>26</th>\n",
       "      <td>0.010062</td>\n",
       "      <td>ATSm1</td>\n",
       "    </tr>\n",
       "  </tbody>\n",
       "</table>\n",
       "</div>"
      ],
      "text/plain": [
       "     importance          var\n",
       "134    0.045075      nHCsatu\n",
       "39     0.042816     BCUTc-1l\n",
       "111    0.031323      nHBint3\n",
       "529    0.027837       maxsOH\n",
       "471    0.023946    maxHBint6\n",
       "66     0.023711        SCH-6\n",
       "585    0.021712         hmin\n",
       "292    0.019919          SdO\n",
       "230    0.018329      SHBint3\n",
       "349    0.017277    minHBint3\n",
       "238    0.016241        SHsOH\n",
       "595    0.014534   ETA_AlphaP\n",
       "611    0.012318  ETA_Shape_Y\n",
       "411    0.012126        mindO\n",
       "357    0.011668      minHsOH\n",
       "46     0.011293     nBondsS2\n",
       "234    0.010956      SHBint7\n",
       "237    0.010742     SHBint10\n",
       "59     0.010371        C1SP3\n",
       "26     0.010062        ATSm1"
      ]
     },
     "execution_count": 17,
     "metadata": {},
     "output_type": "execute_result"
    }
   ],
   "source": [
    "xgbc_fea.head(20)"
   ]
  },
  {
   "cell_type": "code",
   "execution_count": 18,
   "id": "resident-brazil",
   "metadata": {},
   "outputs": [
    {
     "data": {
      "text/html": [
       "<div>\n",
       "<style scoped>\n",
       "    .dataframe tbody tr th:only-of-type {\n",
       "        vertical-align: middle;\n",
       "    }\n",
       "\n",
       "    .dataframe tbody tr th {\n",
       "        vertical-align: top;\n",
       "    }\n",
       "\n",
       "    .dataframe thead th {\n",
       "        text-align: right;\n",
       "    }\n",
       "</style>\n",
       "<table border=\"1\" class=\"dataframe\">\n",
       "  <thead>\n",
       "    <tr style=\"text-align: right;\">\n",
       "      <th></th>\n",
       "      <th>importance</th>\n",
       "      <th>var</th>\n",
       "    </tr>\n",
       "  </thead>\n",
       "  <tbody>\n",
       "    <tr>\n",
       "      <th>39</th>\n",
       "      <td>0.049053</td>\n",
       "      <td>BCUTc-1l</td>\n",
       "    </tr>\n",
       "    <tr>\n",
       "      <th>529</th>\n",
       "      <td>0.024372</td>\n",
       "      <td>maxsOH</td>\n",
       "    </tr>\n",
       "    <tr>\n",
       "      <th>476</th>\n",
       "      <td>0.017500</td>\n",
       "      <td>maxHsOH</td>\n",
       "    </tr>\n",
       "    <tr>\n",
       "      <th>238</th>\n",
       "      <td>0.017067</td>\n",
       "      <td>SHsOH</td>\n",
       "    </tr>\n",
       "    <tr>\n",
       "      <th>119</th>\n",
       "      <td>0.016356</td>\n",
       "      <td>nHsOH</td>\n",
       "    </tr>\n",
       "    <tr>\n",
       "      <th>673</th>\n",
       "      <td>0.016349</td>\n",
       "      <td>MLFER_A</td>\n",
       "    </tr>\n",
       "    <tr>\n",
       "      <th>291</th>\n",
       "      <td>0.015166</td>\n",
       "      <td>SsOH</td>\n",
       "    </tr>\n",
       "    <tr>\n",
       "      <th>357</th>\n",
       "      <td>0.013258</td>\n",
       "      <td>minHsOH</td>\n",
       "    </tr>\n",
       "    <tr>\n",
       "      <th>410</th>\n",
       "      <td>0.012845</td>\n",
       "      <td>minsOH</td>\n",
       "    </tr>\n",
       "    <tr>\n",
       "      <th>393</th>\n",
       "      <td>0.008878</td>\n",
       "      <td>minaasC</td>\n",
       "    </tr>\n",
       "    <tr>\n",
       "      <th>225</th>\n",
       "      <td>0.008201</td>\n",
       "      <td>SHBd</td>\n",
       "    </tr>\n",
       "    <tr>\n",
       "      <th>41</th>\n",
       "      <td>0.007448</td>\n",
       "      <td>BCUTp-1l</td>\n",
       "    </tr>\n",
       "    <tr>\n",
       "      <th>172</th>\n",
       "      <td>0.007269</td>\n",
       "      <td>nsOH</td>\n",
       "    </tr>\n",
       "    <tr>\n",
       "      <th>102</th>\n",
       "      <td>0.007134</td>\n",
       "      <td>VP-7</td>\n",
       "    </tr>\n",
       "    <tr>\n",
       "      <th>292</th>\n",
       "      <td>0.006706</td>\n",
       "      <td>SdO</td>\n",
       "    </tr>\n",
       "    <tr>\n",
       "      <th>463</th>\n",
       "      <td>0.006390</td>\n",
       "      <td>maxHBd</td>\n",
       "    </tr>\n",
       "    <tr>\n",
       "      <th>585</th>\n",
       "      <td>0.006278</td>\n",
       "      <td>hmin</td>\n",
       "    </tr>\n",
       "    <tr>\n",
       "      <th>639</th>\n",
       "      <td>0.005518</td>\n",
       "      <td>nHBAcc</td>\n",
       "    </tr>\n",
       "    <tr>\n",
       "      <th>723</th>\n",
       "      <td>0.005415</td>\n",
       "      <td>WTPT-4</td>\n",
       "    </tr>\n",
       "    <tr>\n",
       "      <th>273</th>\n",
       "      <td>0.005361</td>\n",
       "      <td>SdssC</td>\n",
       "    </tr>\n",
       "  </tbody>\n",
       "</table>\n",
       "</div>"
      ],
      "text/plain": [
       "     importance       var\n",
       "39     0.049053  BCUTc-1l\n",
       "529    0.024372    maxsOH\n",
       "476    0.017500   maxHsOH\n",
       "238    0.017067     SHsOH\n",
       "119    0.016356     nHsOH\n",
       "673    0.016349   MLFER_A\n",
       "291    0.015166      SsOH\n",
       "357    0.013258   minHsOH\n",
       "410    0.012845    minsOH\n",
       "393    0.008878   minaasC\n",
       "225    0.008201      SHBd\n",
       "41     0.007448  BCUTp-1l\n",
       "172    0.007269      nsOH\n",
       "102    0.007134      VP-7\n",
       "292    0.006706       SdO\n",
       "463    0.006390    maxHBd\n",
       "585    0.006278      hmin\n",
       "639    0.005518    nHBAcc\n",
       "723    0.005415    WTPT-4\n",
       "273    0.005361     SdssC"
      ]
     },
     "execution_count": 18,
     "metadata": {},
     "output_type": "execute_result"
    }
   ],
   "source": [
    "rfc_fea.head(20)"
   ]
  },
  {
   "cell_type": "code",
   "execution_count": null,
   "id": "curious-worth",
   "metadata": {},
   "outputs": [],
   "source": []
  }
 ],
 "metadata": {
  "kernelspec": {
   "display_name": "Python [conda env:anaconda3]",
   "language": "python",
   "name": "conda-env-anaconda3-py"
  },
  "language_info": {
   "codemirror_mode": {
    "name": "ipython",
    "version": 3
   },
   "file_extension": ".py",
   "mimetype": "text/x-python",
   "name": "python",
   "nbconvert_exporter": "python",
   "pygments_lexer": "ipython3",
   "version": "3.8.8"
  }
 },
 "nbformat": 4,
 "nbformat_minor": 5
}
