{
 "cells": [
  {
   "cell_type": "code",
   "execution_count": 1,
   "id": "checked-dover",
   "metadata": {},
   "outputs": [],
   "source": [
    "import numpy as np \n",
    "import pandas as pd\n",
    "from matplotlib import pyplot as plt\n",
    "\n",
    "pd.set_option('display.max_columns', None)\n",
    "#显示所有行\n",
    "pd.set_option('display.max_rows', None)\n",
    "#设置value的显示长度为100，默认为50\n",
    "pd.set_option('max_colwidth',100)\n",
    "#接近完美"
   ]
  },
  {
   "cell_type": "code",
   "execution_count": 2,
   "id": "facial-carolina",
   "metadata": {},
   "outputs": [],
   "source": [
    "# desc_data=pd.read_excel(\"Molecular_Descriptor.xlsx\")\n",
    "#admet_data=pd.read_excel(\"化合物ADMET.xlsx\")\n",
    "# full_df=pd.merge(desc_data,admet_data,on='SMILES')\n",
    "# full_df.to_csv(\"MD_to_ADMET.csv\",index=False)"
   ]
  },
  {
   "cell_type": "code",
   "execution_count": 3,
   "id": "pregnant-logistics",
   "metadata": {},
   "outputs": [
    {
     "data": {
      "text/plain": [
       "(1974, 735)"
      ]
     },
     "execution_count": 3,
     "metadata": {},
     "output_type": "execute_result"
    }
   ],
   "source": [
    "data_df = pd.read_csv(\"MD_to_ADMET.csv\")\n",
    "data_df.shape"
   ]
  },
  {
   "cell_type": "code",
   "execution_count": 4,
   "id": "expanded-supplement",
   "metadata": {},
   "outputs": [],
   "source": [
    "target_label = ['Caco-2', 'CYP3A4', 'hERG', 'HOB', 'MN','SMILES']"
   ]
  },
  {
   "cell_type": "code",
   "execution_count": 5,
   "id": "important-victorian",
   "metadata": {},
   "outputs": [],
   "source": [
    "X = data_df.drop(labels=target_label,axis=1)\n",
    "y = data_df['CYP3A4']"
   ]
  },
  {
   "cell_type": "code",
   "execution_count": 6,
   "id": "alternate-destruction",
   "metadata": {},
   "outputs": [],
   "source": [
    "feature_names = X.columns"
   ]
  },
  {
   "cell_type": "markdown",
   "id": "annoying-charlotte",
   "metadata": {},
   "source": [
    "### 1.分类器准备 XGboost RF随机森林 lightGBM"
   ]
  },
  {
   "cell_type": "markdown",
   "id": "interstate-celebrity",
   "metadata": {},
   "source": [
    "### 1.1 数据划分"
   ]
  },
  {
   "cell_type": "code",
   "execution_count": 7,
   "id": "light-newark",
   "metadata": {
    "tags": []
   },
   "outputs": [],
   "source": [
    "from sklearn.preprocessing import MinMaxScaler\n",
    "from sklearn.model_selection import train_test_split\n",
    "\n",
    "#为了减少误差\n",
    "# std1 = MinMaxScaler()\n",
    "# X=std1.fit_transform(X)\n",
    "# std2 = MinMaxScaler()\n",
    "# y=std2.fit_transform(y.values.reshape(-1,1))\n",
    "\n",
    "#训练集 和 验证集 9:1   ;仅仅是分类器\n",
    "x_train,x_test,y_train,y_test = train_test_split(X,y,test_size=0.1,random_state=666) #这里改名字\n",
    "#pd.DataFrame(x_train).head()"
   ]
  },
  {
   "cell_type": "markdown",
   "id": "incredible-alias",
   "metadata": {},
   "source": [
    "### 1.2 评价指标"
   ]
  },
  {
   "cell_type": "code",
   "execution_count": 8,
   "id": "patent-variance",
   "metadata": {},
   "outputs": [],
   "source": [
    "#1.2 评价指标\n",
    "from sklearn.metrics import confusion_matrix,f1_score,recall_score,accuracy_score,precision_score\n",
    "\n",
    "def print_score(model,x_train,y_train,x_test,y_test):\n",
    "    print(model.score(x_train,y_train))\n",
    "    print(model.score(x_test,y_test))\n",
    "\n",
    "#误报率的计算\n",
    "def false_alarm_rate(cm):\n",
    "    tn, fp, fn, tp = cm.ravel()\n",
    "    far=fp/(fp+tn)#误报率\n",
    "    return far\n",
    "\n",
    "#返回一串字典 输入真实值和预测值\n",
    "def calc_metrics(true, pred):\n",
    "    #传进来都是df,查准率precison不关注\n",
    "    cm=confusion_matrix(true, pred)\n",
    "    far=false_alarm_rate(cm)*100\n",
    "    accuracy=accuracy_score(true, pred)*100\n",
    "    recall=recall_score(true, pred)*100\n",
    "    f1= f1_score(true, pred)*100\n",
    "    precise = precision_score(true, pred)*100\n",
    "    return {'far':far,'precision':precise,'acc':accuracy,'recall':recall,'f1':f1}\n",
    "\n"
   ]
  },
  {
   "cell_type": "code",
   "execution_count": 9,
   "id": "responsible-dining",
   "metadata": {},
   "outputs": [],
   "source": [
    "# 1.3 写一个function 返回sklearn中 特征重要性排名和分数 的 dataframe\n",
    "def get_classifer_ranked_feature(clf,feature_names):\n",
    "    name_im = pd.DataFrame({'importance':clf.feature_importances_,'var':feature_names})\n",
    "    name_im = name_im.sort_values(by='importance',ascending=False)\n",
    "    return name_im"
   ]
  },
  {
   "cell_type": "code",
   "execution_count": 10,
   "id": "pediatric-explanation",
   "metadata": {},
   "outputs": [
    {
     "name": "stdout",
     "output_type": "stream",
     "text": [
      "[21:13:40] WARNING: C:/Users/Administrator/workspace/xgboost-win64_release_1.4.0/src/learner.cc:1095: Starting in XGBoost 1.3.0, the default evaluation metric used with the objective 'binary:logistic' was changed from 'error' to 'logloss'. Explicitly set eval_metric if you'd like to restore the old behavior.\n",
      "Wall time: 5.35 s\n"
     ]
    },
    {
     "data": {
      "text/plain": [
       "LGBMClassifier()"
      ]
     },
     "execution_count": 10,
     "metadata": {},
     "output_type": "execute_result"
    }
   ],
   "source": [
    "%%time\n",
    "import xgboost as xgb\n",
    "from xgboost import plot_importance\n",
    "from xgboost import XGBClassifier\n",
    "from sklearn.ensemble import RandomForestClassifier\n",
    "import lightgbm as lgb\n",
    "from sklearn.model_selection import GridSearchCV\n",
    "\n",
    "\n",
    "rfc = RandomForestClassifier()\n",
    "xgbc =XGBClassifier(max_depth=3,use_label_encoder=False)\n",
    "#n_estimators=100,max_depth=6, n_jobs=-1,learning_rate=0.15\n",
    "\n",
    "#针对light-gbm\n",
    "trn_data = lgb.Dataset(x_train, label = y_train)\n",
    "val_data = lgb.Dataset(x_test, label = y_test)\n",
    "lgbm = lgb.LGBMClassifier()\n",
    "\n",
    "rfc.fit(x_train,y_train)\n",
    "xgbc.fit(x_train,y_train)\n",
    "lgbm.fit(x_train,y_train)"
   ]
  },
  {
   "cell_type": "code",
   "execution_count": 11,
   "id": "coupled-drinking",
   "metadata": {},
   "outputs": [
    {
     "data": {
      "text/plain": [
       "['cyp3a4_xgbc.model']"
      ]
     },
     "execution_count": 11,
     "metadata": {},
     "output_type": "execute_result"
    }
   ],
   "source": [
    "import joblib\n",
    "joblib.dump(xgbc, 'cyp3a4_xgbc.model')"
   ]
  },
  {
   "cell_type": "code",
   "execution_count": 12,
   "id": "korean-marine",
   "metadata": {},
   "outputs": [],
   "source": [
    "# print_score(xgbc,x_train,y_train,x_test,y_test)\n",
    "# print_score(rfc,x_train,y_train,x_test,y_test)\n",
    "# print_score(lgbm,x_train,y_train,x_test,y_test)"
   ]
  },
  {
   "cell_type": "code",
   "execution_count": 13,
   "id": "increasing-villa",
   "metadata": {},
   "outputs": [
    {
     "name": "stdout",
     "output_type": "stream",
     "text": [
      "lgbm\n",
      "{'far': 0.0, 'precision': 100.0, 'acc': 100.0, 'recall': 100.0, 'f1': 100.0}\n",
      "{'far': 8.88888888888889, 'precision': 97.27891156462584, 'acc': 92.92929292929293, 'recall': 93.4640522875817, 'f1': 95.33333333333333}\n"
     ]
    }
   ],
   "source": [
    "trn_pred = lgbm.predict(x_train)\n",
    "tes_pred =lgbm.predict(x_test)\n",
    "a=calc_metrics(y_train,trn_pred)\n",
    "b=calc_metrics(y_test,tes_pred)\n",
    "print('lgbm')\n",
    "print(a)\n",
    "print(b)"
   ]
  },
  {
   "cell_type": "code",
   "execution_count": 14,
   "id": "sixth-chemical",
   "metadata": {},
   "outputs": [
    {
     "name": "stdout",
     "output_type": "stream",
     "text": [
      "xgbc\n",
      "{'far': 0.0, 'precision': 100.0, 'acc': 100.0, 'recall': 100.0, 'f1': 100.0}\n",
      "{'far': 6.666666666666667, 'precision': 97.95918367346938, 'acc': 93.93939393939394, 'recall': 94.11764705882352, 'f1': 96.0}\n"
     ]
    }
   ],
   "source": [
    "trn_pred = xgbc.predict(x_train)\n",
    "tes_pred =xgbc.predict(x_test)\n",
    "a=calc_metrics(y_train,trn_pred)\n",
    "b=calc_metrics(y_test,tes_pred)\n",
    "print('xgbc')\n",
    "print(a)\n",
    "print(b)"
   ]
  },
  {
   "cell_type": "code",
   "execution_count": 15,
   "id": "personalized-eleven",
   "metadata": {},
   "outputs": [],
   "source": [
    "trn_pred = rfc.predict(x_train)\n",
    "tes_pred =rfc.predict(x_test)\n",
    "a=calc_metrics(y_train,trn_pred)\n",
    "b=calc_metrics(y_test,tes_pred)"
   ]
  },
  {
   "cell_type": "code",
   "execution_count": 16,
   "id": "dedicated-sacrifice",
   "metadata": {},
   "outputs": [
    {
     "name": "stdout",
     "output_type": "stream",
     "text": [
      "rfc\n",
      "{'far': 0.0, 'precision': 100.0, 'acc': 100.0, 'recall': 100.0, 'f1': 100.0}\n",
      "{'far': 8.88888888888889, 'precision': 97.27891156462584, 'acc': 92.92929292929293, 'recall': 93.4640522875817, 'f1': 95.33333333333333}\n"
     ]
    }
   ],
   "source": [
    "print('rfc')\n",
    "print(a)\n",
    "print(b)"
   ]
  },
  {
   "cell_type": "markdown",
   "id": "indirect-istanbul",
   "metadata": {},
   "source": [
    "# 3.选重要的特征"
   ]
  },
  {
   "cell_type": "code",
   "execution_count": 17,
   "id": "entire-renewal",
   "metadata": {},
   "outputs": [],
   "source": [
    "xgbc_fea = get_classifer_ranked_feature(xgbc,feature_names)\n",
    "rfc_fea = get_classifer_ranked_feature(rfc,feature_names)"
   ]
  },
  {
   "cell_type": "code",
   "execution_count": 18,
   "id": "endless-foster",
   "metadata": {},
   "outputs": [
    {
     "data": {
      "text/html": [
       "<div>\n",
       "<style scoped>\n",
       "    .dataframe tbody tr th:only-of-type {\n",
       "        vertical-align: middle;\n",
       "    }\n",
       "\n",
       "    .dataframe tbody tr th {\n",
       "        vertical-align: top;\n",
       "    }\n",
       "\n",
       "    .dataframe thead th {\n",
       "        text-align: right;\n",
       "    }\n",
       "</style>\n",
       "<table border=\"1\" class=\"dataframe\">\n",
       "  <thead>\n",
       "    <tr style=\"text-align: right;\">\n",
       "      <th></th>\n",
       "      <th>importance</th>\n",
       "      <th>var</th>\n",
       "    </tr>\n",
       "  </thead>\n",
       "  <tbody>\n",
       "    <tr>\n",
       "      <th>91</th>\n",
       "      <td>0.167813</td>\n",
       "      <td>SP-4</td>\n",
       "    </tr>\n",
       "    <tr>\n",
       "      <th>102</th>\n",
       "      <td>0.091286</td>\n",
       "      <td>VP-7</td>\n",
       "    </tr>\n",
       "    <tr>\n",
       "      <th>98</th>\n",
       "      <td>0.054797</td>\n",
       "      <td>VP-3</td>\n",
       "    </tr>\n",
       "    <tr>\n",
       "      <th>88</th>\n",
       "      <td>0.046185</td>\n",
       "      <td>SP-1</td>\n",
       "    </tr>\n",
       "    <tr>\n",
       "      <th>615</th>\n",
       "      <td>0.042394</td>\n",
       "      <td>ETA_Beta_s</td>\n",
       "    </tr>\n",
       "    <tr>\n",
       "      <th>47</th>\n",
       "      <td>0.024339</td>\n",
       "      <td>nBondsS3</td>\n",
       "    </tr>\n",
       "    <tr>\n",
       "      <th>97</th>\n",
       "      <td>0.022968</td>\n",
       "      <td>VP-2</td>\n",
       "    </tr>\n",
       "    <tr>\n",
       "      <th>628</th>\n",
       "      <td>0.019774</td>\n",
       "      <td>ETA_Eta_L</td>\n",
       "    </tr>\n",
       "    <tr>\n",
       "      <th>253</th>\n",
       "      <td>0.017421</td>\n",
       "      <td>SHCsatu</td>\n",
       "    </tr>\n",
       "    <tr>\n",
       "      <th>601</th>\n",
       "      <td>0.017162</td>\n",
       "      <td>ETA_Epsilon_4</td>\n",
       "    </tr>\n",
       "    <tr>\n",
       "      <th>225</th>\n",
       "      <td>0.016904</td>\n",
       "      <td>SHBd</td>\n",
       "    </tr>\n",
       "    <tr>\n",
       "      <th>646</th>\n",
       "      <td>0.016402</td>\n",
       "      <td>Kier1</td>\n",
       "    </tr>\n",
       "    <tr>\n",
       "      <th>606</th>\n",
       "      <td>0.016080</td>\n",
       "      <td>ETA_dEpsilon_D</td>\n",
       "    </tr>\n",
       "    <tr>\n",
       "      <th>134</th>\n",
       "      <td>0.016044</td>\n",
       "      <td>nHCsatu</td>\n",
       "    </tr>\n",
       "    <tr>\n",
       "      <th>105</th>\n",
       "      <td>0.015275</td>\n",
       "      <td>ECCEN</td>\n",
       "    </tr>\n",
       "    <tr>\n",
       "      <th>89</th>\n",
       "      <td>0.015143</td>\n",
       "      <td>SP-2</td>\n",
       "    </tr>\n",
       "    <tr>\n",
       "      <th>472</th>\n",
       "      <td>0.014043</td>\n",
       "      <td>maxHBint7</td>\n",
       "    </tr>\n",
       "    <tr>\n",
       "      <th>645</th>\n",
       "      <td>0.012578</td>\n",
       "      <td>HybRatio</td>\n",
       "    </tr>\n",
       "    <tr>\n",
       "      <th>71</th>\n",
       "      <td>0.011494</td>\n",
       "      <td>VCH-6</td>\n",
       "    </tr>\n",
       "    <tr>\n",
       "      <th>21</th>\n",
       "      <td>0.009816</td>\n",
       "      <td>ATSc1</td>\n",
       "    </tr>\n",
       "  </tbody>\n",
       "</table>\n",
       "</div>"
      ],
      "text/plain": [
       "     importance             var\n",
       "91     0.167813            SP-4\n",
       "102    0.091286            VP-7\n",
       "98     0.054797            VP-3\n",
       "88     0.046185            SP-1\n",
       "615    0.042394      ETA_Beta_s\n",
       "47     0.024339        nBondsS3\n",
       "97     0.022968            VP-2\n",
       "628    0.019774       ETA_Eta_L\n",
       "253    0.017421         SHCsatu\n",
       "601    0.017162   ETA_Epsilon_4\n",
       "225    0.016904            SHBd\n",
       "646    0.016402           Kier1\n",
       "606    0.016080  ETA_dEpsilon_D\n",
       "134    0.016044         nHCsatu\n",
       "105    0.015275           ECCEN\n",
       "89     0.015143            SP-2\n",
       "472    0.014043       maxHBint7\n",
       "645    0.012578        HybRatio\n",
       "71     0.011494           VCH-6\n",
       "21     0.009816           ATSc1"
      ]
     },
     "execution_count": 18,
     "metadata": {},
     "output_type": "execute_result"
    }
   ],
   "source": [
    "xgbc_fea.head(20)"
   ]
  },
  {
   "cell_type": "code",
   "execution_count": 19,
   "id": "negative-metadata",
   "metadata": {},
   "outputs": [
    {
     "data": {
      "text/html": [
       "<div>\n",
       "<style scoped>\n",
       "    .dataframe tbody tr th:only-of-type {\n",
       "        vertical-align: middle;\n",
       "    }\n",
       "\n",
       "    .dataframe tbody tr th {\n",
       "        vertical-align: top;\n",
       "    }\n",
       "\n",
       "    .dataframe thead th {\n",
       "        text-align: right;\n",
       "    }\n",
       "</style>\n",
       "<table border=\"1\" class=\"dataframe\">\n",
       "  <thead>\n",
       "    <tr style=\"text-align: right;\">\n",
       "      <th></th>\n",
       "      <th>importance</th>\n",
       "      <th>var</th>\n",
       "    </tr>\n",
       "  </thead>\n",
       "  <tbody>\n",
       "    <tr>\n",
       "      <th>102</th>\n",
       "      <td>0.034921</td>\n",
       "      <td>VP-7</td>\n",
       "    </tr>\n",
       "    <tr>\n",
       "      <th>93</th>\n",
       "      <td>0.028426</td>\n",
       "      <td>SP-6</td>\n",
       "    </tr>\n",
       "    <tr>\n",
       "      <th>91</th>\n",
       "      <td>0.022795</td>\n",
       "      <td>SP-4</td>\n",
       "    </tr>\n",
       "    <tr>\n",
       "      <th>4</th>\n",
       "      <td>0.022275</td>\n",
       "      <td>apol</td>\n",
       "    </tr>\n",
       "    <tr>\n",
       "      <th>98</th>\n",
       "      <td>0.021252</td>\n",
       "      <td>VP-3</td>\n",
       "    </tr>\n",
       "    <tr>\n",
       "      <th>95</th>\n",
       "      <td>0.020132</td>\n",
       "      <td>VP-0</td>\n",
       "    </tr>\n",
       "    <tr>\n",
       "      <th>31</th>\n",
       "      <td>0.020042</td>\n",
       "      <td>ATSp1</td>\n",
       "    </tr>\n",
       "    <tr>\n",
       "      <th>90</th>\n",
       "      <td>0.018434</td>\n",
       "      <td>SP-3</td>\n",
       "    </tr>\n",
       "    <tr>\n",
       "      <th>728</th>\n",
       "      <td>0.017665</td>\n",
       "      <td>Zagreb</td>\n",
       "    </tr>\n",
       "    <tr>\n",
       "      <th>88</th>\n",
       "      <td>0.017060</td>\n",
       "      <td>SP-1</td>\n",
       "    </tr>\n",
       "    <tr>\n",
       "      <th>92</th>\n",
       "      <td>0.016240</td>\n",
       "      <td>SP-5</td>\n",
       "    </tr>\n",
       "    <tr>\n",
       "      <th>87</th>\n",
       "      <td>0.015650</td>\n",
       "      <td>SP-0</td>\n",
       "    </tr>\n",
       "    <tr>\n",
       "      <th>45</th>\n",
       "      <td>0.015519</td>\n",
       "      <td>nBondsS</td>\n",
       "    </tr>\n",
       "    <tr>\n",
       "      <th>720</th>\n",
       "      <td>0.015215</td>\n",
       "      <td>WTPT-1</td>\n",
       "    </tr>\n",
       "    <tr>\n",
       "      <th>653</th>\n",
       "      <td>0.014082</td>\n",
       "      <td>McGowan_Volume</td>\n",
       "    </tr>\n",
       "    <tr>\n",
       "      <th>97</th>\n",
       "      <td>0.013483</td>\n",
       "      <td>VP-2</td>\n",
       "    </tr>\n",
       "    <tr>\n",
       "      <th>101</th>\n",
       "      <td>0.013191</td>\n",
       "      <td>VP-6</td>\n",
       "    </tr>\n",
       "    <tr>\n",
       "      <th>105</th>\n",
       "      <td>0.012951</td>\n",
       "      <td>ECCEN</td>\n",
       "    </tr>\n",
       "    <tr>\n",
       "      <th>99</th>\n",
       "      <td>0.012919</td>\n",
       "      <td>VP-4</td>\n",
       "    </tr>\n",
       "    <tr>\n",
       "      <th>43</th>\n",
       "      <td>0.012727</td>\n",
       "      <td>nBonds</td>\n",
       "    </tr>\n",
       "  </tbody>\n",
       "</table>\n",
       "</div>"
      ],
      "text/plain": [
       "     importance             var\n",
       "102    0.034921            VP-7\n",
       "93     0.028426            SP-6\n",
       "91     0.022795            SP-4\n",
       "4      0.022275            apol\n",
       "98     0.021252            VP-3\n",
       "95     0.020132            VP-0\n",
       "31     0.020042           ATSp1\n",
       "90     0.018434            SP-3\n",
       "728    0.017665          Zagreb\n",
       "88     0.017060            SP-1\n",
       "92     0.016240            SP-5\n",
       "87     0.015650            SP-0\n",
       "45     0.015519         nBondsS\n",
       "720    0.015215          WTPT-1\n",
       "653    0.014082  McGowan_Volume\n",
       "97     0.013483            VP-2\n",
       "101    0.013191            VP-6\n",
       "105    0.012951           ECCEN\n",
       "99     0.012919            VP-4\n",
       "43     0.012727          nBonds"
      ]
     },
     "execution_count": 19,
     "metadata": {},
     "output_type": "execute_result"
    }
   ],
   "source": [
    "rfc_fea.head(20)"
   ]
  },
  {
   "cell_type": "code",
   "execution_count": null,
   "id": "powered-bracket",
   "metadata": {},
   "outputs": [],
   "source": []
  }
 ],
 "metadata": {
  "kernelspec": {
   "display_name": "Python [conda env:anaconda3]",
   "language": "python",
   "name": "conda-env-anaconda3-py"
  },
  "language_info": {
   "codemirror_mode": {
    "name": "ipython",
    "version": 3
   },
   "file_extension": ".py",
   "mimetype": "text/x-python",
   "name": "python",
   "nbconvert_exporter": "python",
   "pygments_lexer": "ipython3",
   "version": "3.8.8"
  }
 },
 "nbformat": 4,
 "nbformat_minor": 5
}
