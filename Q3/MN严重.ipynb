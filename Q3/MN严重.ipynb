{
 "cells": [
  {
   "cell_type": "code",
   "execution_count": 1,
   "id": "universal-third",
   "metadata": {},
   "outputs": [],
   "source": [
    "import numpy as np \n",
    "import pandas as pd\n",
    "from matplotlib import pyplot as plt\n",
    "\n",
    "pd.set_option('display.max_columns', None)\n",
    "#显示所有行\n",
    "pd.set_option('display.max_rows', None)\n",
    "#设置value的显示长度为100，默认为50\n",
    "pd.set_option('max_colwidth',100)\n",
    "#接近完美"
   ]
  },
  {
   "cell_type": "code",
   "execution_count": 2,
   "id": "soviet-pillow",
   "metadata": {},
   "outputs": [],
   "source": [
    "# desc_data=pd.read_excel(\"Molecular_Descriptor.xlsx\")\n",
    "#admet_data=pd.read_excel(\"化合物ADMET.xlsx\")\n",
    "# full_df=pd.merge(desc_data,admet_data,on='SMILES')\n",
    "# full_df.to_csv(\"MD_to_ADMET.csv\",index=False)"
   ]
  },
  {
   "cell_type": "code",
   "execution_count": 3,
   "id": "united-decrease",
   "metadata": {},
   "outputs": [
    {
     "data": {
      "text/plain": [
       "(1974, 735)"
      ]
     },
     "execution_count": 3,
     "metadata": {},
     "output_type": "execute_result"
    }
   ],
   "source": [
    "data_df = pd.read_csv(\"MD_to_ADMET.csv\")\n",
    "data_df.shape"
   ]
  },
  {
   "cell_type": "code",
   "execution_count": 4,
   "id": "governmental-conditioning",
   "metadata": {},
   "outputs": [],
   "source": [
    "target_label = ['Caco-2', 'CYP3A4', 'hERG', 'HOB', 'MN','SMILES']\n",
    "X = data_df.drop(labels=target_label,axis=1)\n",
    "y = data_df['MN']"
   ]
  },
  {
   "cell_type": "code",
   "execution_count": 6,
   "id": "centered-senator",
   "metadata": {},
   "outputs": [],
   "source": [
    "feature_names = X.columns"
   ]
  },
  {
   "cell_type": "markdown",
   "id": "hazardous-minute",
   "metadata": {},
   "source": [
    "### 1.分类器准备 XGboost RF随机森林 lightGBM"
   ]
  },
  {
   "cell_type": "markdown",
   "id": "continuing-sunday",
   "metadata": {},
   "source": [
    "### 1.1 数据划分"
   ]
  },
  {
   "cell_type": "code",
   "execution_count": 7,
   "id": "uniform-european",
   "metadata": {
    "tags": []
   },
   "outputs": [],
   "source": [
    "from sklearn.preprocessing import MinMaxScaler\n",
    "from sklearn.model_selection import train_test_split\n",
    "\n",
    "#为了减少误差\n",
    "# std1 = MinMaxScaler()\n",
    "# X=std1.fit_transform(X)\n",
    "# std2 = MinMaxScaler()\n",
    "# y=std2.fit_transform(y.values.reshape(-1,1))\n",
    "\n",
    "#训练集 和 验证集 9:1   ;仅仅是分类器\n",
    "x_train,x_test,y_train,y_test = train_test_split(X,y,test_size=0.1,random_state=666) #这里改名字\n",
    "#pd.DataFrame(x_train).head()"
   ]
  },
  {
   "cell_type": "markdown",
   "id": "infinite-meditation",
   "metadata": {},
   "source": [
    "### 1.2 评价指标"
   ]
  },
  {
   "cell_type": "code",
   "execution_count": 8,
   "id": "lyric-aurora",
   "metadata": {},
   "outputs": [],
   "source": [
    "#1.2 评价指标\n",
    "from sklearn.metrics import confusion_matrix,f1_score,recall_score,accuracy_score,precision_score\n",
    "\n",
    "def print_score(model,x_train,y_train,x_test,y_test):\n",
    "    print(model.score(x_train,y_train))\n",
    "    print(model.score(x_test,y_test))\n",
    "\n",
    "#误报率的计算\n",
    "def false_alarm_rate(cm):\n",
    "    tn, fp, fn, tp = cm.ravel()\n",
    "    far=fp/(fp+tn)#误报率\n",
    "    return far\n",
    "\n",
    "#返回一串字典 输入真实值和预测值\n",
    "def calc_metrics(true, pred):\n",
    "    #传进来都是df,查准率precison不关注\n",
    "    cm=confusion_matrix(true, pred)\n",
    "    far=false_alarm_rate(cm)*100\n",
    "    accuracy=accuracy_score(true, pred)*100\n",
    "    recall=recall_score(true, pred)*100\n",
    "    f1= f1_score(true, pred)*100\n",
    "    precise = precision_score(true, pred)*100\n",
    "    return {'far':far,'precision':precise,'acc':accuracy,'recall':recall,'f1':f1}\n",
    "\n"
   ]
  },
  {
   "cell_type": "code",
   "execution_count": 9,
   "id": "authentic-casting",
   "metadata": {},
   "outputs": [],
   "source": [
    "# 1.3 写一个function 返回sklearn中 特征重要性排名和分数 的 dataframe\n",
    "def get_classifer_ranked_feature(clf,feature_names):\n",
    "    name_im = pd.DataFrame({'importance':clf.feature_importances_,'var':feature_names})\n",
    "    name_im = name_im.sort_values(by='importance',ascending=False)\n",
    "    return name_im"
   ]
  },
  {
   "cell_type": "code",
   "execution_count": 10,
   "id": "basic-millennium",
   "metadata": {},
   "outputs": [
    {
     "name": "stdout",
     "output_type": "stream",
     "text": [
      "[21:18:46] WARNING: C:/Users/Administrator/workspace/xgboost-win64_release_1.4.0/src/learner.cc:1095: Starting in XGBoost 1.3.0, the default evaluation metric used with the objective 'binary:logistic' was changed from 'error' to 'logloss'. Explicitly set eval_metric if you'd like to restore the old behavior.\n",
      "Wall time: 5.17 s\n"
     ]
    },
    {
     "data": {
      "text/plain": [
       "LGBMClassifier()"
      ]
     },
     "execution_count": 10,
     "metadata": {},
     "output_type": "execute_result"
    }
   ],
   "source": [
    "%%time\n",
    "import xgboost as xgb\n",
    "from xgboost import plot_importance\n",
    "from xgboost import XGBClassifier\n",
    "from sklearn.ensemble import RandomForestClassifier\n",
    "import lightgbm as lgb\n",
    "from sklearn.model_selection import GridSearchCV\n",
    "\n",
    "\n",
    "rfc = RandomForestClassifier()\n",
    "xgbc =XGBClassifier(max_depth=3,use_label_encoder=False)\n",
    "#n_estimators=100,max_depth=6, n_jobs=-1,learning_rate=0.15\n",
    "\n",
    "#针对light-gbm\n",
    "trn_data = lgb.Dataset(x_train, label = y_train)\n",
    "val_data = lgb.Dataset(x_test, label = y_test)\n",
    "lgbm = lgb.LGBMClassifier()\n",
    "\n",
    "rfc.fit(x_train,y_train)\n",
    "xgbc.fit(x_train,y_train)\n",
    "lgbm.fit(x_train,y_train)"
   ]
  },
  {
   "cell_type": "code",
   "execution_count": 11,
   "id": "numerous-variance",
   "metadata": {},
   "outputs": [],
   "source": [
    "# print_score(xgbc,x_train,y_train,x_test,y_test)\n",
    "# print_score(rfc,x_train,y_train,x_test,y_test)\n",
    "# print_score(lgbm,x_train,y_train,x_test,y_test)"
   ]
  },
  {
   "cell_type": "code",
   "execution_count": 11,
   "id": "marine-birmingham",
   "metadata": {},
   "outputs": [
    {
     "data": {
      "text/plain": [
       "['mn_lgbm.model']"
      ]
     },
     "execution_count": 11,
     "metadata": {},
     "output_type": "execute_result"
    }
   ],
   "source": [
    "import joblib\n",
    "joblib.dump(lgbm, 'mn_lgbm.model')"
   ]
  },
  {
   "cell_type": "code",
   "execution_count": 12,
   "id": "opponent-solomon",
   "metadata": {},
   "outputs": [
    {
     "name": "stdout",
     "output_type": "stream",
     "text": [
      "lgbm\n",
      "{'far': 0.0, 'precision': 100.0, 'acc': 100.0, 'recall': 100.0, 'f1': 100.0}\n",
      "{'far': 18.51851851851852, 'precision': 93.5064935064935, 'acc': 94.94949494949495, 'recall': 100.0, 'f1': 96.64429530201343}\n"
     ]
    }
   ],
   "source": [
    "trn_pred = lgbm.predict(x_train)\n",
    "tes_pred =lgbm.predict(x_test)\n",
    "a=calc_metrics(y_train,trn_pred)\n",
    "b=calc_metrics(y_test,tes_pred)\n",
    "print('lgbm')\n",
    "print(a)\n",
    "print(b)"
   ]
  },
  {
   "cell_type": "code",
   "execution_count": 13,
   "id": "therapeutic-exhibit",
   "metadata": {},
   "outputs": [
    {
     "name": "stdout",
     "output_type": "stream",
     "text": [
      "xgbc\n",
      "{'far': 0.0, 'precision': 100.0, 'acc': 100.0, 'recall': 100.0, 'f1': 100.0}\n",
      "{'far': 22.22222222222222, 'precision': 92.3076923076923, 'acc': 93.93939393939394, 'recall': 100.0, 'f1': 96.00000000000001}\n"
     ]
    }
   ],
   "source": [
    "trn_pred = xgbc.predict(x_train)\n",
    "tes_pred =xgbc.predict(x_test)\n",
    "a=calc_metrics(y_train,trn_pred)\n",
    "b=calc_metrics(y_test,tes_pred)\n",
    "print('xgbc')\n",
    "print(a)\n",
    "print(b)"
   ]
  },
  {
   "cell_type": "code",
   "execution_count": 14,
   "id": "interested-popularity",
   "metadata": {},
   "outputs": [],
   "source": [
    "trn_pred = rfc.predict(x_train)\n",
    "tes_pred =rfc.predict(x_test)\n",
    "a=calc_metrics(y_train,trn_pred)\n",
    "b=calc_metrics(y_test,tes_pred)"
   ]
  },
  {
   "cell_type": "code",
   "execution_count": 15,
   "id": "boxed-woman",
   "metadata": {},
   "outputs": [
    {
     "name": "stdout",
     "output_type": "stream",
     "text": [
      "rfc\n",
      "{'far': 0.0, 'precision': 100.0, 'acc': 100.0, 'recall': 100.0, 'f1': 100.0}\n",
      "{'far': 20.37037037037037, 'precision': 92.90322580645162, 'acc': 94.44444444444444, 'recall': 100.0, 'f1': 96.3210702341137}\n"
     ]
    }
   ],
   "source": [
    "print('rfc')\n",
    "print(a)\n",
    "print(b)"
   ]
  },
  {
   "cell_type": "markdown",
   "id": "selected-manitoba",
   "metadata": {},
   "source": [
    "# 3.选重要的特征"
   ]
  },
  {
   "cell_type": "code",
   "execution_count": 16,
   "id": "toxic-glass",
   "metadata": {},
   "outputs": [],
   "source": [
    "xgbc_fea = get_classifer_ranked_feature(xgbc,feature_names)\n",
    "rfc_fea = get_classifer_ranked_feature(rfc,feature_names)"
   ]
  },
  {
   "cell_type": "code",
   "execution_count": 17,
   "id": "documentary-canberra",
   "metadata": {},
   "outputs": [
    {
     "data": {
      "text/html": [
       "<div>\n",
       "<style scoped>\n",
       "    .dataframe tbody tr th:only-of-type {\n",
       "        vertical-align: middle;\n",
       "    }\n",
       "\n",
       "    .dataframe tbody tr th {\n",
       "        vertical-align: top;\n",
       "    }\n",
       "\n",
       "    .dataframe thead th {\n",
       "        text-align: right;\n",
       "    }\n",
       "</style>\n",
       "<table border=\"1\" class=\"dataframe\">\n",
       "  <thead>\n",
       "    <tr style=\"text-align: right;\">\n",
       "      <th></th>\n",
       "      <th>importance</th>\n",
       "      <th>var</th>\n",
       "    </tr>\n",
       "  </thead>\n",
       "  <tbody>\n",
       "    <tr>\n",
       "      <th>722</th>\n",
       "      <td>0.209254</td>\n",
       "      <td>WTPT-3</td>\n",
       "    </tr>\n",
       "    <tr>\n",
       "      <th>660</th>\n",
       "      <td>0.063353</td>\n",
       "      <td>MDEC-24</td>\n",
       "    </tr>\n",
       "    <tr>\n",
       "      <th>666</th>\n",
       "      <td>0.055177</td>\n",
       "      <td>MDEO-22</td>\n",
       "    </tr>\n",
       "    <tr>\n",
       "      <th>642</th>\n",
       "      <td>0.049277</td>\n",
       "      <td>nHBAcc_Lipinski</td>\n",
       "    </tr>\n",
       "    <tr>\n",
       "      <th>601</th>\n",
       "      <td>0.041347</td>\n",
       "      <td>ETA_Epsilon_4</td>\n",
       "    </tr>\n",
       "    <tr>\n",
       "      <th>147</th>\n",
       "      <td>0.034251</td>\n",
       "      <td>nssCH2</td>\n",
       "    </tr>\n",
       "    <tr>\n",
       "      <th>598</th>\n",
       "      <td>0.029862</td>\n",
       "      <td>ETA_Epsilon_1</td>\n",
       "    </tr>\n",
       "    <tr>\n",
       "      <th>48</th>\n",
       "      <td>0.029213</td>\n",
       "      <td>nBondsD</td>\n",
       "    </tr>\n",
       "    <tr>\n",
       "      <th>636</th>\n",
       "      <td>0.020350</td>\n",
       "      <td>ETA_EtaP_B_RC</td>\n",
       "    </tr>\n",
       "    <tr>\n",
       "      <th>724</th>\n",
       "      <td>0.017845</td>\n",
       "      <td>WTPT-5</td>\n",
       "    </tr>\n",
       "    <tr>\n",
       "      <th>646</th>\n",
       "      <td>0.017463</td>\n",
       "      <td>Kier1</td>\n",
       "    </tr>\n",
       "    <tr>\n",
       "      <th>678</th>\n",
       "      <td>0.016079</td>\n",
       "      <td>MLFER_L</td>\n",
       "    </tr>\n",
       "    <tr>\n",
       "      <th>502</th>\n",
       "      <td>0.013278</td>\n",
       "      <td>maxsCH3</td>\n",
       "    </tr>\n",
       "    <tr>\n",
       "      <th>368</th>\n",
       "      <td>0.012649</td>\n",
       "      <td>minHdsCH</td>\n",
       "    </tr>\n",
       "    <tr>\n",
       "      <th>67</th>\n",
       "      <td>0.012451</td>\n",
       "      <td>SCH-7</td>\n",
       "    </tr>\n",
       "    <tr>\n",
       "      <th>12</th>\n",
       "      <td>0.011850</td>\n",
       "      <td>nN</td>\n",
       "    </tr>\n",
       "    <tr>\n",
       "      <th>616</th>\n",
       "      <td>0.011646</td>\n",
       "      <td>ETA_BetaP_s</td>\n",
       "    </tr>\n",
       "    <tr>\n",
       "      <th>706</th>\n",
       "      <td>0.011041</td>\n",
       "      <td>nT6Ring</td>\n",
       "    </tr>\n",
       "    <tr>\n",
       "      <th>242</th>\n",
       "      <td>0.010839</td>\n",
       "      <td>SHssNH</td>\n",
       "    </tr>\n",
       "    <tr>\n",
       "      <th>49</th>\n",
       "      <td>0.010537</td>\n",
       "      <td>nBondsD2</td>\n",
       "    </tr>\n",
       "  </tbody>\n",
       "</table>\n",
       "</div>"
      ],
      "text/plain": [
       "     importance              var\n",
       "722    0.209254           WTPT-3\n",
       "660    0.063353          MDEC-24\n",
       "666    0.055177          MDEO-22\n",
       "642    0.049277  nHBAcc_Lipinski\n",
       "601    0.041347    ETA_Epsilon_4\n",
       "147    0.034251           nssCH2\n",
       "598    0.029862    ETA_Epsilon_1\n",
       "48     0.029213          nBondsD\n",
       "636    0.020350    ETA_EtaP_B_RC\n",
       "724    0.017845           WTPT-5\n",
       "646    0.017463            Kier1\n",
       "678    0.016079          MLFER_L\n",
       "502    0.013278          maxsCH3\n",
       "368    0.012649         minHdsCH\n",
       "67     0.012451            SCH-7\n",
       "12     0.011850               nN\n",
       "616    0.011646      ETA_BetaP_s\n",
       "706    0.011041          nT6Ring\n",
       "242    0.010839           SHssNH\n",
       "49     0.010537         nBondsD2"
      ]
     },
     "execution_count": 17,
     "metadata": {},
     "output_type": "execute_result"
    }
   ],
   "source": [
    "xgbc_fea.head(20)"
   ]
  },
  {
   "cell_type": "code",
   "execution_count": 18,
   "id": "approved-henry",
   "metadata": {},
   "outputs": [
    {
     "data": {
      "text/html": [
       "<div>\n",
       "<style scoped>\n",
       "    .dataframe tbody tr th:only-of-type {\n",
       "        vertical-align: middle;\n",
       "    }\n",
       "\n",
       "    .dataframe tbody tr th {\n",
       "        vertical-align: top;\n",
       "    }\n",
       "\n",
       "    .dataframe thead th {\n",
       "        text-align: right;\n",
       "    }\n",
       "</style>\n",
       "<table border=\"1\" class=\"dataframe\">\n",
       "  <thead>\n",
       "    <tr style=\"text-align: right;\">\n",
       "      <th></th>\n",
       "      <th>importance</th>\n",
       "      <th>var</th>\n",
       "    </tr>\n",
       "  </thead>\n",
       "  <tbody>\n",
       "    <tr>\n",
       "      <th>724</th>\n",
       "      <td>0.040889</td>\n",
       "      <td>WTPT-5</td>\n",
       "    </tr>\n",
       "    <tr>\n",
       "      <th>598</th>\n",
       "      <td>0.027684</td>\n",
       "      <td>ETA_Epsilon_1</td>\n",
       "    </tr>\n",
       "    <tr>\n",
       "      <th>12</th>\n",
       "      <td>0.020955</td>\n",
       "      <td>nN</td>\n",
       "    </tr>\n",
       "    <tr>\n",
       "      <th>722</th>\n",
       "      <td>0.020709</td>\n",
       "      <td>WTPT-3</td>\n",
       "    </tr>\n",
       "    <tr>\n",
       "      <th>642</th>\n",
       "      <td>0.020236</td>\n",
       "      <td>nHBAcc_Lipinski</td>\n",
       "    </tr>\n",
       "    <tr>\n",
       "      <th>605</th>\n",
       "      <td>0.020127</td>\n",
       "      <td>ETA_dEpsilon_C</td>\n",
       "    </tr>\n",
       "    <tr>\n",
       "      <th>601</th>\n",
       "      <td>0.020062</td>\n",
       "      <td>ETA_Epsilon_4</td>\n",
       "    </tr>\n",
       "    <tr>\n",
       "      <th>616</th>\n",
       "      <td>0.019099</td>\n",
       "      <td>ETA_BetaP_s</td>\n",
       "    </tr>\n",
       "    <tr>\n",
       "      <th>346</th>\n",
       "      <td>0.015560</td>\n",
       "      <td>minHBa</td>\n",
       "    </tr>\n",
       "    <tr>\n",
       "      <th>603</th>\n",
       "      <td>0.015008</td>\n",
       "      <td>ETA_dEpsilon_A</td>\n",
       "    </tr>\n",
       "    <tr>\n",
       "      <th>716</th>\n",
       "      <td>0.014968</td>\n",
       "      <td>TopoPSA</td>\n",
       "    </tr>\n",
       "    <tr>\n",
       "      <th>637</th>\n",
       "      <td>0.014516</td>\n",
       "      <td>FMF</td>\n",
       "    </tr>\n",
       "    <tr>\n",
       "      <th>676</th>\n",
       "      <td>0.011813</td>\n",
       "      <td>MLFER_S</td>\n",
       "    </tr>\n",
       "    <tr>\n",
       "      <th>627</th>\n",
       "      <td>0.010312</td>\n",
       "      <td>ETA_EtaP_F</td>\n",
       "    </tr>\n",
       "    <tr>\n",
       "      <th>674</th>\n",
       "      <td>0.009222</td>\n",
       "      <td>MLFER_BH</td>\n",
       "    </tr>\n",
       "    <tr>\n",
       "      <th>677</th>\n",
       "      <td>0.008886</td>\n",
       "      <td>MLFER_E</td>\n",
       "    </tr>\n",
       "    <tr>\n",
       "      <th>645</th>\n",
       "      <td>0.008473</td>\n",
       "      <td>HybRatio</td>\n",
       "    </tr>\n",
       "    <tr>\n",
       "      <th>631</th>\n",
       "      <td>0.008443</td>\n",
       "      <td>ETA_Eta_F_L</td>\n",
       "    </tr>\n",
       "    <tr>\n",
       "      <th>639</th>\n",
       "      <td>0.008127</td>\n",
       "      <td>nHBAcc</td>\n",
       "    </tr>\n",
       "    <tr>\n",
       "      <th>632</th>\n",
       "      <td>0.007926</td>\n",
       "      <td>ETA_EtaP_F_L</td>\n",
       "    </tr>\n",
       "  </tbody>\n",
       "</table>\n",
       "</div>"
      ],
      "text/plain": [
       "     importance              var\n",
       "724    0.040889           WTPT-5\n",
       "598    0.027684    ETA_Epsilon_1\n",
       "12     0.020955               nN\n",
       "722    0.020709           WTPT-3\n",
       "642    0.020236  nHBAcc_Lipinski\n",
       "605    0.020127   ETA_dEpsilon_C\n",
       "601    0.020062    ETA_Epsilon_4\n",
       "616    0.019099      ETA_BetaP_s\n",
       "346    0.015560           minHBa\n",
       "603    0.015008   ETA_dEpsilon_A\n",
       "716    0.014968          TopoPSA\n",
       "637    0.014516              FMF\n",
       "676    0.011813          MLFER_S\n",
       "627    0.010312       ETA_EtaP_F\n",
       "674    0.009222         MLFER_BH\n",
       "677    0.008886          MLFER_E\n",
       "645    0.008473         HybRatio\n",
       "631    0.008443      ETA_Eta_F_L\n",
       "639    0.008127           nHBAcc\n",
       "632    0.007926     ETA_EtaP_F_L"
      ]
     },
     "execution_count": 18,
     "metadata": {},
     "output_type": "execute_result"
    }
   ],
   "source": [
    "rfc_fea.head(20)"
   ]
  },
  {
   "cell_type": "code",
   "execution_count": null,
   "id": "vital-rugby",
   "metadata": {},
   "outputs": [],
   "source": []
  }
 ],
 "metadata": {
  "kernelspec": {
   "display_name": "Python [conda env:anaconda3]",
   "language": "python",
   "name": "conda-env-anaconda3-py"
  },
  "language_info": {
   "codemirror_mode": {
    "name": "ipython",
    "version": 3
   },
   "file_extension": ".py",
   "mimetype": "text/x-python",
   "name": "python",
   "nbconvert_exporter": "python",
   "pygments_lexer": "ipython3",
   "version": "3.8.8"
  }
 },
 "nbformat": 4,
 "nbformat_minor": 5
}
