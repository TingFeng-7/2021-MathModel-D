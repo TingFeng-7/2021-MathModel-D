{
 "cells": [
  {
   "cell_type": "code",
   "execution_count": 1,
   "id": "skilled-initial",
   "metadata": {},
   "outputs": [],
   "source": [
    "import numpy as np \n",
    "import pandas as pd\n",
    "from matplotlib import pyplot as plt\n",
    "\n",
    "pd.set_option('display.max_columns', None)\n",
    "#显示所有行\n",
    "pd.set_option('display.max_rows', None)\n",
    "#设置value的显示长度为100，默认为50\n",
    "pd.set_option('max_colwidth',100)\n",
    "#接近完美"
   ]
  },
  {
   "cell_type": "code",
   "execution_count": 2,
   "id": "alive-mother",
   "metadata": {},
   "outputs": [],
   "source": [
    "# desc_data=pd.read_excel(\"Molecular_Descriptor.xlsx\")\n",
    "#admet_data=pd.read_excel(\"化合物ADMET.xlsx\")\n",
    "# full_df=pd.merge(desc_data,admet_data,on='SMILES')\n",
    "# full_df.to_csv(\"MD_to_ADMET.csv\",index=False)"
   ]
  },
  {
   "cell_type": "code",
   "execution_count": 3,
   "id": "floating-constitution",
   "metadata": {},
   "outputs": [
    {
     "data": {
      "text/plain": [
       "(1974, 735)"
      ]
     },
     "execution_count": 3,
     "metadata": {},
     "output_type": "execute_result"
    }
   ],
   "source": [
    "data_df = pd.read_csv(\"MD_to_ADMET.csv\")\n",
    "data_df.shape"
   ]
  },
  {
   "cell_type": "code",
   "execution_count": 4,
   "id": "dedicated-influence",
   "metadata": {},
   "outputs": [],
   "source": [
    "target_label = ['Caco-2', 'CYP3A4', 'hERG', 'HOB', 'MN','SMILES']"
   ]
  },
  {
   "cell_type": "code",
   "execution_count": 5,
   "id": "quiet-copper",
   "metadata": {},
   "outputs": [],
   "source": [
    "X = data_df.drop(labels=target_label,axis=1)\n",
    "y = data_df['HOB']"
   ]
  },
  {
   "cell_type": "code",
   "execution_count": 6,
   "id": "reasonable-freeware",
   "metadata": {},
   "outputs": [],
   "source": [
    "feature_names = X.columns"
   ]
  },
  {
   "cell_type": "markdown",
   "id": "integrated-wilderness",
   "metadata": {},
   "source": [
    "### 1.分类器准备 XGboost RF随机森林 lightGBM"
   ]
  },
  {
   "cell_type": "markdown",
   "id": "polish-pizza",
   "metadata": {},
   "source": [
    "### 1.1 数据划分"
   ]
  },
  {
   "cell_type": "code",
   "execution_count": 7,
   "id": "turned-consultation",
   "metadata": {
    "tags": []
   },
   "outputs": [],
   "source": [
    "from sklearn.preprocessing import MinMaxScaler\n",
    "from sklearn.model_selection import train_test_split\n",
    "\n",
    "#为了减少误差\n",
    "# std1 = MinMaxScaler()\n",
    "# X=std1.fit_transform(X)\n",
    "# std2 = MinMaxScaler()\n",
    "# y=std2.fit_transform(y.values.reshape(-1,1))\n",
    "\n",
    "#训练集 和 验证集 9:1   ;仅仅是分类器\n",
    "x_train,x_test,y_train,y_test = train_test_split(X,y,test_size=0.1,random_state=666) #这里改名字\n",
    "#pd.DataFrame(x_train).head()"
   ]
  },
  {
   "cell_type": "markdown",
   "id": "disciplinary-latvia",
   "metadata": {},
   "source": [
    "### 1.2 评价指标"
   ]
  },
  {
   "cell_type": "code",
   "execution_count": 8,
   "id": "frozen-phoenix",
   "metadata": {},
   "outputs": [],
   "source": [
    "#1.2 评价指标\n",
    "from sklearn.metrics import confusion_matrix,f1_score,recall_score,accuracy_score,precision_score\n",
    "\n",
    "def print_score(model,x_train,y_train,x_test,y_test):\n",
    "    print(model.score(x_train,y_train))\n",
    "    print(model.score(x_test,y_test))\n",
    "\n",
    "#误报率的计算\n",
    "def false_alarm_rate(cm):\n",
    "    tn, fp, fn, tp = cm.ravel()\n",
    "    far=fp/(fp+tn)#误报率\n",
    "    return far\n",
    "\n",
    "#返回一串字典 输入真实值和预测值\n",
    "def calc_metrics(true, pred):\n",
    "    #传进来都是df,查准率precison不关注\n",
    "    cm=confusion_matrix(true, pred)\n",
    "    far=false_alarm_rate(cm)*100\n",
    "    accuracy=accuracy_score(true, pred)*100\n",
    "    recall=recall_score(true, pred)*100\n",
    "    f1= f1_score(true, pred)*100\n",
    "    precise = precision_score(true, pred)*100\n",
    "    return {'far':far,'precision':precise,'acc':accuracy,'recall':recall,'f1':f1}\n",
    "\n"
   ]
  },
  {
   "cell_type": "code",
   "execution_count": 9,
   "id": "brazilian-account",
   "metadata": {},
   "outputs": [],
   "source": [
    "# 1.3 写一个function 返回sklearn中 特征重要性排名和分数 的 dataframe\n",
    "def get_classifer_ranked_feature(clf,feature_names):\n",
    "    name_im = pd.DataFrame({'importance':clf.feature_importances_,'var':feature_names})\n",
    "    name_im = name_im.sort_values(by='importance',ascending=False)\n",
    "    return name_im"
   ]
  },
  {
   "cell_type": "code",
   "execution_count": 10,
   "id": "chemical-office",
   "metadata": {},
   "outputs": [
    {
     "name": "stdout",
     "output_type": "stream",
     "text": [
      "[21:14:32] WARNING: C:/Users/Administrator/workspace/xgboost-win64_release_1.4.0/src/learner.cc:1095: Starting in XGBoost 1.3.0, the default evaluation metric used with the objective 'binary:logistic' was changed from 'error' to 'logloss'. Explicitly set eval_metric if you'd like to restore the old behavior.\n",
      "Wall time: 8.54 s\n"
     ]
    },
    {
     "data": {
      "text/plain": [
       "LGBMClassifier(max_depth=6, n_estimators=300)"
      ]
     },
     "execution_count": 10,
     "metadata": {},
     "output_type": "execute_result"
    }
   ],
   "source": [
    "%%time\n",
    "import xgboost as xgb\n",
    "from xgboost import plot_importance\n",
    "from xgboost import XGBClassifier\n",
    "from sklearn.ensemble import RandomForestClassifier\n",
    "import lightgbm as lgb\n",
    "from sklearn.model_selection import GridSearchCV\n",
    "\n",
    "\n",
    "rfc = RandomForestClassifier()\n",
    "xgbc =XGBClassifier(n_estimators = 300,max_depth=6,use_label_encoder=False)\n",
    "#n_estimators=100,max_depth=6, n_jobs=-1,learning_rate=0.15\n",
    "\n",
    "#针对light-gbm\n",
    "trn_data = lgb.Dataset(x_train, label = y_train)\n",
    "val_data = lgb.Dataset(x_test, label = y_test)\n",
    "lgbm = lgb.LGBMClassifier(n_estimators = 300,max_depth=6)\n",
    "\n",
    "rfc.fit(x_train,y_train)\n",
    "xgbc.fit(x_train,y_train)\n",
    "lgbm.fit(x_train,y_train)"
   ]
  },
  {
   "cell_type": "code",
   "execution_count": 11,
   "id": "unavailable-likelihood",
   "metadata": {},
   "outputs": [
    {
     "data": {
      "text/plain": [
       "['herg_lgbm.model']"
      ]
     },
     "execution_count": 11,
     "metadata": {},
     "output_type": "execute_result"
    }
   ],
   "source": [
    "import joblib\n",
    "joblib.dump(lgbm, 'herg_lgbm.model')"
   ]
  },
  {
   "cell_type": "code",
   "execution_count": 12,
   "id": "billion-necklace",
   "metadata": {},
   "outputs": [],
   "source": [
    "# print_score(xgbc,x_train,y_train,x_test,y_test)\n",
    "# print_score(rfc,x_train,y_train,x_test,y_test)\n",
    "# print_score(lgbm,x_train,y_train,x_test,y_test)"
   ]
  },
  {
   "cell_type": "code",
   "execution_count": 13,
   "id": "endangered-engineer",
   "metadata": {},
   "outputs": [
    {
     "name": "stdout",
     "output_type": "stream",
     "text": [
      "lgbm\n",
      "{'far': 0.0, 'precision': 100.0, 'acc': 100.0, 'recall': 100.0, 'f1': 100.0}\n",
      "{'far': 7.741935483870968, 'precision': 73.91304347826086, 'acc': 89.39393939393939, 'recall': 79.06976744186046, 'f1': 76.40449438202246}\n"
     ]
    }
   ],
   "source": [
    "trn_pred = lgbm.predict(x_train)\n",
    "tes_pred =lgbm.predict(x_test)\n",
    "a=calc_metrics(y_train,trn_pred)\n",
    "b=calc_metrics(y_test,tes_pred)\n",
    "print('lgbm')\n",
    "print(a)\n",
    "print(b)"
   ]
  },
  {
   "cell_type": "code",
   "execution_count": 14,
   "id": "bright-pregnancy",
   "metadata": {},
   "outputs": [
    {
     "name": "stdout",
     "output_type": "stream",
     "text": [
      "xgbc\n",
      "{'far': 0.0, 'precision': 100.0, 'acc': 100.0, 'recall': 100.0, 'f1': 100.0}\n",
      "{'far': 7.741935483870968, 'precision': 73.33333333333333, 'acc': 88.88888888888889, 'recall': 76.74418604651163, 'f1': 74.99999999999999}\n"
     ]
    }
   ],
   "source": [
    "trn_pred = xgbc.predict(x_train)\n",
    "tes_pred =xgbc.predict(x_test)\n",
    "a=calc_metrics(y_train,trn_pred)\n",
    "b=calc_metrics(y_test,tes_pred)\n",
    "print('xgbc')\n",
    "print(a)\n",
    "print(b)"
   ]
  },
  {
   "cell_type": "code",
   "execution_count": 15,
   "id": "daily-ocean",
   "metadata": {},
   "outputs": [],
   "source": [
    "trn_pred = rfc.predict(x_train)\n",
    "tes_pred =rfc.predict(x_test)\n",
    "a=calc_metrics(y_train,trn_pred)\n",
    "b=calc_metrics(y_test,tes_pred)"
   ]
  },
  {
   "cell_type": "code",
   "execution_count": 16,
   "id": "affiliated-depression",
   "metadata": {},
   "outputs": [
    {
     "name": "stdout",
     "output_type": "stream",
     "text": [
      "rfc\n",
      "{'far': 0.0, 'precision': 100.0, 'acc': 100.0, 'recall': 100.0, 'f1': 100.0}\n",
      "{'far': 9.032258064516128, 'precision': 68.18181818181817, 'acc': 86.36363636363636, 'recall': 69.76744186046511, 'f1': 68.96551724137932}\n"
     ]
    }
   ],
   "source": [
    "print('rfc')\n",
    "print(a)\n",
    "print(b)"
   ]
  },
  {
   "cell_type": "markdown",
   "id": "handed-jersey",
   "metadata": {},
   "source": [
    "# 3.选重要的特征"
   ]
  },
  {
   "cell_type": "code",
   "execution_count": 17,
   "id": "curious-fancy",
   "metadata": {},
   "outputs": [],
   "source": [
    "xgbc_fea = get_classifer_ranked_feature(xgbc,feature_names)\n",
    "rfc_fea = get_classifer_ranked_feature(rfc,feature_names)"
   ]
  },
  {
   "cell_type": "code",
   "execution_count": 18,
   "id": "selected-atmosphere",
   "metadata": {},
   "outputs": [
    {
     "data": {
      "text/html": [
       "<div>\n",
       "<style scoped>\n",
       "    .dataframe tbody tr th:only-of-type {\n",
       "        vertical-align: middle;\n",
       "    }\n",
       "\n",
       "    .dataframe tbody tr th {\n",
       "        vertical-align: top;\n",
       "    }\n",
       "\n",
       "    .dataframe thead th {\n",
       "        text-align: right;\n",
       "    }\n",
       "</style>\n",
       "<table border=\"1\" class=\"dataframe\">\n",
       "  <thead>\n",
       "    <tr style=\"text-align: right;\">\n",
       "      <th></th>\n",
       "      <th>importance</th>\n",
       "      <th>var</th>\n",
       "    </tr>\n",
       "  </thead>\n",
       "  <tbody>\n",
       "    <tr>\n",
       "      <th>134</th>\n",
       "      <td>0.079670</td>\n",
       "      <td>nHCsatu</td>\n",
       "    </tr>\n",
       "    <tr>\n",
       "      <th>39</th>\n",
       "      <td>0.030838</td>\n",
       "      <td>BCUTc-1l</td>\n",
       "    </tr>\n",
       "    <tr>\n",
       "      <th>111</th>\n",
       "      <td>0.028636</td>\n",
       "      <td>nHBint3</td>\n",
       "    </tr>\n",
       "    <tr>\n",
       "      <th>147</th>\n",
       "      <td>0.026323</td>\n",
       "      <td>nssCH2</td>\n",
       "    </tr>\n",
       "    <tr>\n",
       "      <th>471</th>\n",
       "      <td>0.024226</td>\n",
       "      <td>maxHBint6</td>\n",
       "    </tr>\n",
       "    <tr>\n",
       "      <th>80</th>\n",
       "      <td>0.021782</td>\n",
       "      <td>VC-6</td>\n",
       "    </tr>\n",
       "    <tr>\n",
       "      <th>60</th>\n",
       "      <td>0.019874</td>\n",
       "      <td>C2SP3</td>\n",
       "    </tr>\n",
       "    <tr>\n",
       "      <th>293</th>\n",
       "      <td>0.016323</td>\n",
       "      <td>SssO</td>\n",
       "    </tr>\n",
       "    <tr>\n",
       "      <th>531</th>\n",
       "      <td>0.014914</td>\n",
       "      <td>maxssO</td>\n",
       "    </tr>\n",
       "    <tr>\n",
       "      <th>238</th>\n",
       "      <td>0.014812</td>\n",
       "      <td>SHsOH</td>\n",
       "    </tr>\n",
       "    <tr>\n",
       "      <th>353</th>\n",
       "      <td>0.014415</td>\n",
       "      <td>minHBint7</td>\n",
       "    </tr>\n",
       "    <tr>\n",
       "      <th>413</th>\n",
       "      <td>0.013041</td>\n",
       "      <td>minaaO</td>\n",
       "    </tr>\n",
       "    <tr>\n",
       "      <th>612</th>\n",
       "      <td>0.012825</td>\n",
       "      <td>ETA_Shape_X</td>\n",
       "    </tr>\n",
       "    <tr>\n",
       "      <th>584</th>\n",
       "      <td>0.012674</td>\n",
       "      <td>gmax</td>\n",
       "    </tr>\n",
       "    <tr>\n",
       "      <th>474</th>\n",
       "      <td>0.011280</td>\n",
       "      <td>maxHBint9</td>\n",
       "    </tr>\n",
       "    <tr>\n",
       "      <th>57</th>\n",
       "      <td>0.011087</td>\n",
       "      <td>C2SP2</td>\n",
       "    </tr>\n",
       "    <tr>\n",
       "      <th>670</th>\n",
       "      <td>0.010468</td>\n",
       "      <td>MDEN-22</td>\n",
       "    </tr>\n",
       "    <tr>\n",
       "      <th>642</th>\n",
       "      <td>0.010202</td>\n",
       "      <td>nHBAcc_Lipinski</td>\n",
       "    </tr>\n",
       "    <tr>\n",
       "      <th>395</th>\n",
       "      <td>0.010090</td>\n",
       "      <td>minssssC</td>\n",
       "    </tr>\n",
       "    <tr>\n",
       "      <th>310</th>\n",
       "      <td>0.010054</td>\n",
       "      <td>SssS</td>\n",
       "    </tr>\n",
       "  </tbody>\n",
       "</table>\n",
       "</div>"
      ],
      "text/plain": [
       "     importance              var\n",
       "134    0.079670          nHCsatu\n",
       "39     0.030838         BCUTc-1l\n",
       "111    0.028636          nHBint3\n",
       "147    0.026323           nssCH2\n",
       "471    0.024226        maxHBint6\n",
       "80     0.021782             VC-6\n",
       "60     0.019874            C2SP3\n",
       "293    0.016323             SssO\n",
       "531    0.014914           maxssO\n",
       "238    0.014812            SHsOH\n",
       "353    0.014415        minHBint7\n",
       "413    0.013041           minaaO\n",
       "612    0.012825      ETA_Shape_X\n",
       "584    0.012674             gmax\n",
       "474    0.011280        maxHBint9\n",
       "57     0.011087            C2SP2\n",
       "670    0.010468          MDEN-22\n",
       "642    0.010202  nHBAcc_Lipinski\n",
       "395    0.010090         minssssC\n",
       "310    0.010054             SssS"
      ]
     },
     "execution_count": 18,
     "metadata": {},
     "output_type": "execute_result"
    }
   ],
   "source": [
    "xgbc_fea.head(20)"
   ]
  },
  {
   "cell_type": "code",
   "execution_count": 19,
   "id": "weighted-probability",
   "metadata": {},
   "outputs": [
    {
     "data": {
      "text/html": [
       "<div>\n",
       "<style scoped>\n",
       "    .dataframe tbody tr th:only-of-type {\n",
       "        vertical-align: middle;\n",
       "    }\n",
       "\n",
       "    .dataframe tbody tr th {\n",
       "        vertical-align: top;\n",
       "    }\n",
       "\n",
       "    .dataframe thead th {\n",
       "        text-align: right;\n",
       "    }\n",
       "</style>\n",
       "<table border=\"1\" class=\"dataframe\">\n",
       "  <thead>\n",
       "    <tr style=\"text-align: right;\">\n",
       "      <th></th>\n",
       "      <th>importance</th>\n",
       "      <th>var</th>\n",
       "    </tr>\n",
       "  </thead>\n",
       "  <tbody>\n",
       "    <tr>\n",
       "      <th>39</th>\n",
       "      <td>0.024927</td>\n",
       "      <td>BCUTc-1l</td>\n",
       "    </tr>\n",
       "    <tr>\n",
       "      <th>357</th>\n",
       "      <td>0.019677</td>\n",
       "      <td>minHsOH</td>\n",
       "    </tr>\n",
       "    <tr>\n",
       "      <th>238</th>\n",
       "      <td>0.018689</td>\n",
       "      <td>SHsOH</td>\n",
       "    </tr>\n",
       "    <tr>\n",
       "      <th>529</th>\n",
       "      <td>0.018157</td>\n",
       "      <td>maxsOH</td>\n",
       "    </tr>\n",
       "    <tr>\n",
       "      <th>410</th>\n",
       "      <td>0.015997</td>\n",
       "      <td>minsOH</td>\n",
       "    </tr>\n",
       "    <tr>\n",
       "      <th>476</th>\n",
       "      <td>0.015026</td>\n",
       "      <td>maxHsOH</td>\n",
       "    </tr>\n",
       "    <tr>\n",
       "      <th>291</th>\n",
       "      <td>0.014986</td>\n",
       "      <td>SsOH</td>\n",
       "    </tr>\n",
       "    <tr>\n",
       "      <th>585</th>\n",
       "      <td>0.013167</td>\n",
       "      <td>hmin</td>\n",
       "    </tr>\n",
       "    <tr>\n",
       "      <th>673</th>\n",
       "      <td>0.012987</td>\n",
       "      <td>MLFER_A</td>\n",
       "    </tr>\n",
       "    <tr>\n",
       "      <th>393</th>\n",
       "      <td>0.009722</td>\n",
       "      <td>minaasC</td>\n",
       "    </tr>\n",
       "    <tr>\n",
       "      <th>119</th>\n",
       "      <td>0.008943</td>\n",
       "      <td>nHsOH</td>\n",
       "    </tr>\n",
       "    <tr>\n",
       "      <th>225</th>\n",
       "      <td>0.008864</td>\n",
       "      <td>SHBd</td>\n",
       "    </tr>\n",
       "    <tr>\n",
       "      <th>41</th>\n",
       "      <td>0.008442</td>\n",
       "      <td>BCUTp-1l</td>\n",
       "    </tr>\n",
       "    <tr>\n",
       "      <th>463</th>\n",
       "      <td>0.008262</td>\n",
       "      <td>maxHBd</td>\n",
       "    </tr>\n",
       "    <tr>\n",
       "      <th>101</th>\n",
       "      <td>0.008168</td>\n",
       "      <td>VP-6</td>\n",
       "    </tr>\n",
       "    <tr>\n",
       "      <th>639</th>\n",
       "      <td>0.007209</td>\n",
       "      <td>nHBAcc</td>\n",
       "    </tr>\n",
       "    <tr>\n",
       "      <th>592</th>\n",
       "      <td>0.007047</td>\n",
       "      <td>MAXDP2</td>\n",
       "    </tr>\n",
       "    <tr>\n",
       "      <th>670</th>\n",
       "      <td>0.006989</td>\n",
       "      <td>MDEN-22</td>\n",
       "    </tr>\n",
       "    <tr>\n",
       "      <th>172</th>\n",
       "      <td>0.006696</td>\n",
       "      <td>nsOH</td>\n",
       "    </tr>\n",
       "    <tr>\n",
       "      <th>530</th>\n",
       "      <td>0.006436</td>\n",
       "      <td>maxdO</td>\n",
       "    </tr>\n",
       "  </tbody>\n",
       "</table>\n",
       "</div>"
      ],
      "text/plain": [
       "     importance       var\n",
       "39     0.024927  BCUTc-1l\n",
       "357    0.019677   minHsOH\n",
       "238    0.018689     SHsOH\n",
       "529    0.018157    maxsOH\n",
       "410    0.015997    minsOH\n",
       "476    0.015026   maxHsOH\n",
       "291    0.014986      SsOH\n",
       "585    0.013167      hmin\n",
       "673    0.012987   MLFER_A\n",
       "393    0.009722   minaasC\n",
       "119    0.008943     nHsOH\n",
       "225    0.008864      SHBd\n",
       "41     0.008442  BCUTp-1l\n",
       "463    0.008262    maxHBd\n",
       "101    0.008168      VP-6\n",
       "639    0.007209    nHBAcc\n",
       "592    0.007047    MAXDP2\n",
       "670    0.006989   MDEN-22\n",
       "172    0.006696      nsOH\n",
       "530    0.006436     maxdO"
      ]
     },
     "execution_count": 19,
     "metadata": {},
     "output_type": "execute_result"
    }
   ],
   "source": [
    "rfc_fea.head(20)"
   ]
  },
  {
   "cell_type": "code",
   "execution_count": null,
   "id": "described-motorcycle",
   "metadata": {},
   "outputs": [],
   "source": []
  }
 ],
 "metadata": {
  "kernelspec": {
   "display_name": "Python [conda env:anaconda3]",
   "language": "python",
   "name": "conda-env-anaconda3-py"
  },
  "language_info": {
   "codemirror_mode": {
    "name": "ipython",
    "version": 3
   },
   "file_extension": ".py",
   "mimetype": "text/x-python",
   "name": "python",
   "nbconvert_exporter": "python",
   "pygments_lexer": "ipython3",
   "version": "3.8.8"
  }
 },
 "nbformat": 4,
 "nbformat_minor": 5
}
