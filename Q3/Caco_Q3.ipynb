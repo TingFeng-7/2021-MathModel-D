{
 "cells": [
  {
   "cell_type": "code",
   "execution_count": 14,
   "id": "chubby-publisher",
   "metadata": {},
   "outputs": [],
   "source": [
    "import numpy as np \n",
    "import pandas as pd\n",
    "from matplotlib import pyplot as plt\n",
    "\n",
    "pd.set_option('display.max_columns', None)\n",
    "#显示所有行\n",
    "pd.set_option('display.max_rows', None)\n",
    "#设置value的显示长度为100，默认为50\n",
    "pd.set_option('max_colwidth',100)\n",
    "#接近完美"
   ]
  },
  {
   "cell_type": "code",
   "execution_count": 18,
   "id": "joint-springfield",
   "metadata": {},
   "outputs": [
    {
     "data": {
      "text/plain": [
       "(50, 735)"
      ]
     },
     "execution_count": 18,
     "metadata": {},
     "output_type": "execute_result"
    }
   ],
   "source": [
    "test_df = pd.read_csv(\"Q3-test.csv\")\n",
    "data_df = pd.read_csv(\"MD_to_ADMET.csv\")\n",
    "data_df.shape\n",
    "test_df.shape"
   ]
  },
  {
   "cell_type": "code",
   "execution_count": 19,
   "id": "ethical-marks",
   "metadata": {},
   "outputs": [],
   "source": [
    "target_label = ['Caco-2', 'CYP3A4', 'hERG', 'HOB', 'MN','SMILES']"
   ]
  },
  {
   "cell_type": "code",
   "execution_count": 20,
   "id": "rising-footwear",
   "metadata": {},
   "outputs": [],
   "source": [
    "X = data_df.drop(labels=target_label,axis=1)\n",
    "y_caco = data_df['Caco-2']\n",
    "x_test = data_df.drop(labels=target_label,axis=1)"
   ]
  },
  {
   "cell_type": "code",
   "execution_count": 5,
   "id": "greatest-demand",
   "metadata": {},
   "outputs": [],
   "source": [
    "y_caco.unique()\n",
    "feature_names = X.columns"
   ]
  },
  {
   "cell_type": "markdown",
   "id": "polish-nashville",
   "metadata": {},
   "source": [
    "### 1.分类器准备 XGboost RF随机森林 lightGBM"
   ]
  },
  {
   "cell_type": "markdown",
   "id": "phantom-cursor",
   "metadata": {},
   "source": [
    "### 1.1 数据划分"
   ]
  },
  {
   "cell_type": "code",
   "execution_count": 21,
   "id": "economic-withdrawal",
   "metadata": {
    "tags": []
   },
   "outputs": [],
   "source": [
    "from sklearn.preprocessing import MinMaxScaler\n",
    "from sklearn.model_selection import train_test_split\n",
    "\n",
    "#为了减少误差\n",
    "# std1 = MinMaxScaler()\n",
    "# X=std1.fit_transform(X)\n",
    "# std2 = MinMaxScaler()\n",
    "# y=std2.fit_transform(y.values.reshape(-1,1))\n",
    "\n",
    "#训练集 和 验证集 9:1   ;仅仅是分类器\n",
    "x_train,x_test,y_train,y_test = train_test_split(X,y_caco,test_size=0.1,random_state=666) #这里改名字\n",
    "#pd.DataFrame(x_train).head()"
   ]
  },
  {
   "cell_type": "markdown",
   "id": "sharing-printer",
   "metadata": {},
   "source": [
    "### 1.2 评价指标"
   ]
  },
  {
   "cell_type": "code",
   "execution_count": 22,
   "id": "chemical-afternoon",
   "metadata": {},
   "outputs": [],
   "source": [
    "#1.2 评价指标\n",
    "from sklearn.metrics import confusion_matrix,f1_score,recall_score,accuracy_score,precision_score\n",
    "\n",
    "def print_score(model,x_train,y_train,x_test,y_test):\n",
    "    print(model.score(x_train,y_train))\n",
    "    print(model.score(x_test,y_test))\n",
    "\n",
    "#误报率的计算\n",
    "def false_alarm_rate(cm):\n",
    "    tn, fp, fn, tp = cm.ravel()\n",
    "    far=fp/(fp+tn)#误报率\n",
    "    return far\n",
    "\n",
    "#返回一串字典 输入真实值和预测值\n",
    "def calc_metrics(true, pred):\n",
    "    #传进来都是df,查准率precison不关注\n",
    "    cm=confusion_matrix(true, pred)\n",
    "    far=false_alarm_rate(cm)*100\n",
    "    accuracy=accuracy_score(true, pred)*100\n",
    "    recall=recall_score(true, pred)*100\n",
    "    f1= f1_score(true, pred)*100\n",
    "    precise = precision_score(true, pred)*100\n",
    "    return {'far':far,'precision':precise,'acc':accuracy,'recall':recall,'f1':f1}\n",
    "\n"
   ]
  },
  {
   "cell_type": "code",
   "execution_count": 23,
   "id": "going-ambassador",
   "metadata": {},
   "outputs": [],
   "source": [
    "# 1.3 写一个function 返回sklearn中 特征重要性排名和分数 的 dataframe\n",
    "def get_classifer_ranked_feature(clf,feature_names):\n",
    "    name_im = pd.DataFrame({'importance':clf.feature_importances_,'var':feature_names})\n",
    "    name_im = name_im.sort_values(by='importance',ascending=False)\n",
    "    return name_im"
   ]
  },
  {
   "cell_type": "code",
   "execution_count": 24,
   "id": "radio-lemon",
   "metadata": {},
   "outputs": [
    {
     "name": "stdout",
     "output_type": "stream",
     "text": [
      "[21:07:42] WARNING: C:/Users/Administrator/workspace/xgboost-win64_release_1.4.0/src/learner.cc:1095: Starting in XGBoost 1.3.0, the default evaluation metric used with the objective 'binary:logistic' was changed from 'error' to 'logloss'. Explicitly set eval_metric if you'd like to restore the old behavior.\n",
      "Wall time: 3.54 s\n"
     ]
    },
    {
     "data": {
      "text/plain": [
       "LGBMClassifier()"
      ]
     },
     "execution_count": 24,
     "metadata": {},
     "output_type": "execute_result"
    }
   ],
   "source": [
    "%%time\n",
    "import xgboost as xgb\n",
    "from xgboost import plot_importance\n",
    "from xgboost import XGBClassifier\n",
    "from sklearn.ensemble import RandomForestClassifier\n",
    "import lightgbm as lgb\n",
    "from sklearn.model_selection import GridSearchCV\n",
    "\n",
    "\n",
    "rfc = RandomForestClassifier()\n",
    "xgbc =XGBClassifier(max_depth=3,use_label_encoder=False)\n",
    "#n_estimators=100,max_depth=6, n_jobs=-1,learning_rate=0.15\n",
    "\n",
    "#针对light-gbm\n",
    "trn_data = lgb.Dataset(x_train, label = y_train)\n",
    "val_data = lgb.Dataset(x_test, label = y_test)\n",
    "lgbm = lgb.LGBMClassifier()\n",
    "\n",
    "rfc.fit(x_train,y_train)\n",
    "xgbc.fit(x_train,y_train)\n",
    "lgbm.fit(x_train,y_train)"
   ]
  },
  {
   "cell_type": "code",
   "execution_count": 10,
   "id": "robust-teddy",
   "metadata": {},
   "outputs": [],
   "source": [
    "# print_score(xgbc,x_train,y_train,x_test,y_test)\n",
    "# print_score(rfc,x_train,y_train,x_test,y_test)\n",
    "# print_score(lgbm,x_train,y_train,x_test,y_test)"
   ]
  },
  {
   "cell_type": "code",
   "execution_count": 23,
   "id": "laden-vinyl",
   "metadata": {},
   "outputs": [
    {
     "name": "stdout",
     "output_type": "stream",
     "text": [
      "lgbm\n",
      "{'far': 0.0, 'precision': 100.0, 'acc': 100.0, 'recall': 100.0, 'f1': 100.0}\n",
      "{'far': 2.4390243902439024, 'precision': 95.52238805970148, 'acc': 92.92929292929293, 'recall': 85.33333333333334, 'f1': 90.14084507042254}\n"
     ]
    }
   ],
   "source": [
    "# trn_pred = lgbm.predict(x_train)\n",
    "# tes_pred =lgbm.predict(x_test)\n",
    "# a=calc_metrics(y_train,trn_pred)\n",
    "# b=calc_metrics(y_test,tes_pred)\n",
    "# print('lgbm')\n",
    "# print(a)\n",
    "# print(b)"
   ]
  },
  {
   "cell_type": "code",
   "execution_count": 24,
   "id": "changing-vessel",
   "metadata": {},
   "outputs": [
    {
     "name": "stdout",
     "output_type": "stream",
     "text": [
      "xgbc\n",
      "{'far': 0.0, 'precision': 100.0, 'acc': 100.0, 'recall': 100.0, 'f1': 100.0}\n",
      "{'far': 0.8130081300813009, 'precision': 98.4375, 'acc': 93.43434343434343, 'recall': 84.0, 'f1': 90.64748201438849}\n"
     ]
    }
   ],
   "source": [
    "# trn_pred = xgbc.predict(x_train)\n",
    "# tes_pred =xgbc.predict(x_test)\n",
    "# a=calc_metrics(y_train,trn_pred)\n",
    "# b=calc_metrics(y_test,tes_pred)\n",
    "# print('xgbc')\n",
    "# print(a)\n",
    "# print(b)"
   ]
  },
  {
   "cell_type": "code",
   "execution_count": 25,
   "id": "occasional-committee",
   "metadata": {},
   "outputs": [],
   "source": [
    "# trn_pred = rfc.predict(x_train)\n",
    "# tes_pred =rfc.predict(x_test)\n",
    "# a=calc_metrics(y_train,trn_pred)\n",
    "# b=calc_metrics(y_test,tes_pred)\n",
    "# print('rfc')\n",
    "# print(a)\n",
    "# print(b)"
   ]
  },
  {
   "cell_type": "code",
   "execution_count": 25,
   "id": "aggregate-joint",
   "metadata": {},
   "outputs": [],
   "source": [
    "import joblib\n",
    "joblib.dump(rfc, 'caco_rfc.model')\n",
    "prediction = joblib.load('caco_rfc.model')"
   ]
  },
  {
   "cell_type": "code",
   "execution_count": 27,
   "id": "central-monster",
   "metadata": {},
   "outputs": [
    {
     "data": {
      "text/plain": [
       "array([1, 0, 0, 0, 1, 0, 0, 0, 0, 1, 1, 0, 0, 0, 0, 1, 0, 0, 1, 0, 0, 1,\n",
       "       0, 1, 1, 1, 0, 1, 1, 0, 0, 0, 1, 0, 0, 0, 1, 1, 1, 0, 0, 1, 0, 0,\n",
       "       0, 0, 1, 0, 0, 0, 0, 0, 0, 0, 1, 1, 1, 1, 0, 0, 0, 0, 0, 0, 0, 1,\n",
       "       0, 0, 0, 0, 0, 1, 0, 0, 1, 0, 0, 0, 0, 0, 0, 0, 0, 1, 1, 1, 0, 0,\n",
       "       1, 0, 0, 1, 1, 1, 0, 0, 1, 0, 1, 1, 1, 0, 0, 1, 0, 1, 0, 1, 0, 0,\n",
       "       0, 0, 0, 0, 0, 0, 0, 0, 0, 1, 0, 1, 0, 1, 0, 0, 1, 1, 1, 0, 0, 0,\n",
       "       1, 0, 0, 0, 0, 0, 1, 1, 1, 0, 0, 1, 0, 0, 0, 0, 0, 0, 1, 0, 0, 0,\n",
       "       0, 1, 0, 0, 0, 1, 1, 1, 1, 0, 0, 1, 0, 0, 0, 1, 1, 0, 0, 1, 0, 0,\n",
       "       0, 0, 0, 0, 0, 0, 1, 1, 1, 0, 0, 0, 1, 0, 1, 1, 1, 0, 0, 0, 1, 0],\n",
       "      dtype=int64)"
      ]
     },
     "execution_count": 27,
     "metadata": {},
     "output_type": "execute_result"
    }
   ],
   "source": [
    "caco_test_pred = prediction.predict(x_test)\n",
    "pd.DataFrame(caco_test_pred)"
   ]
  },
  {
   "cell_type": "markdown",
   "id": "indoor-jamaica",
   "metadata": {},
   "source": [
    "# 3.选重要的特征"
   ]
  },
  {
   "cell_type": "code",
   "execution_count": null,
   "id": "three-price",
   "metadata": {},
   "outputs": [],
   "source": []
  },
  {
   "cell_type": "code",
   "execution_count": 16,
   "id": "chemical-certification",
   "metadata": {},
   "outputs": [],
   "source": [
    "xgbc_fea = get_classifer_ranked_feature(xgbc,feature_names)\n",
    "rfc_fea = get_classifer_ranked_feature(rfc,feature_names)"
   ]
  },
  {
   "cell_type": "code",
   "execution_count": 17,
   "id": "numeric-diabetes",
   "metadata": {},
   "outputs": [
    {
     "data": {
      "text/html": [
       "<div>\n",
       "<style scoped>\n",
       "    .dataframe tbody tr th:only-of-type {\n",
       "        vertical-align: middle;\n",
       "    }\n",
       "\n",
       "    .dataframe tbody tr th {\n",
       "        vertical-align: top;\n",
       "    }\n",
       "\n",
       "    .dataframe thead th {\n",
       "        text-align: right;\n",
       "    }\n",
       "</style>\n",
       "<table border=\"1\" class=\"dataframe\">\n",
       "  <thead>\n",
       "    <tr style=\"text-align: right;\">\n",
       "      <th></th>\n",
       "      <th>importance</th>\n",
       "      <th>var</th>\n",
       "    </tr>\n",
       "  </thead>\n",
       "  <tbody>\n",
       "    <tr>\n",
       "      <th>725</th>\n",
       "      <td>0.166251</td>\n",
       "      <td>WPATH</td>\n",
       "    </tr>\n",
       "    <tr>\n",
       "      <th>105</th>\n",
       "      <td>0.060555</td>\n",
       "      <td>ECCEN</td>\n",
       "    </tr>\n",
       "    <tr>\n",
       "      <th>294</th>\n",
       "      <td>0.046447</td>\n",
       "      <td>SaaO</td>\n",
       "    </tr>\n",
       "    <tr>\n",
       "      <th>175</th>\n",
       "      <td>0.044679</td>\n",
       "      <td>naaO</td>\n",
       "    </tr>\n",
       "    <tr>\n",
       "      <th>27</th>\n",
       "      <td>0.033630</td>\n",
       "      <td>ATSm2</td>\n",
       "    </tr>\n",
       "    <tr>\n",
       "      <th>106</th>\n",
       "      <td>0.021073</td>\n",
       "      <td>nHBd</td>\n",
       "    </tr>\n",
       "    <tr>\n",
       "      <th>66</th>\n",
       "      <td>0.018314</td>\n",
       "      <td>SCH-6</td>\n",
       "    </tr>\n",
       "    <tr>\n",
       "      <th>678</th>\n",
       "      <td>0.017781</td>\n",
       "      <td>MLFER_L</td>\n",
       "    </tr>\n",
       "    <tr>\n",
       "      <th>666</th>\n",
       "      <td>0.014898</td>\n",
       "      <td>MDEO-22</td>\n",
       "    </tr>\n",
       "    <tr>\n",
       "      <th>28</th>\n",
       "      <td>0.014482</td>\n",
       "      <td>ATSm3</td>\n",
       "    </tr>\n",
       "    <tr>\n",
       "      <th>606</th>\n",
       "      <td>0.013213</td>\n",
       "      <td>ETA_dEpsilon_D</td>\n",
       "    </tr>\n",
       "    <tr>\n",
       "      <th>411</th>\n",
       "      <td>0.012976</td>\n",
       "      <td>mindO</td>\n",
       "    </tr>\n",
       "    <tr>\n",
       "      <th>145</th>\n",
       "      <td>0.012893</td>\n",
       "      <td>nsCH3</td>\n",
       "    </tr>\n",
       "    <tr>\n",
       "      <th>617</th>\n",
       "      <td>0.010783</td>\n",
       "      <td>ETA_Beta_ns</td>\n",
       "    </tr>\n",
       "    <tr>\n",
       "      <th>722</th>\n",
       "      <td>0.010579</td>\n",
       "      <td>WTPT-3</td>\n",
       "    </tr>\n",
       "    <tr>\n",
       "      <th>532</th>\n",
       "      <td>0.010550</td>\n",
       "      <td>maxaaO</td>\n",
       "    </tr>\n",
       "    <tr>\n",
       "      <th>584</th>\n",
       "      <td>0.010174</td>\n",
       "      <td>gmax</td>\n",
       "    </tr>\n",
       "    <tr>\n",
       "      <th>34</th>\n",
       "      <td>0.009634</td>\n",
       "      <td>ATSp4</td>\n",
       "    </tr>\n",
       "    <tr>\n",
       "      <th>650</th>\n",
       "      <td>0.009545</td>\n",
       "      <td>nAtomP</td>\n",
       "    </tr>\n",
       "    <tr>\n",
       "      <th>618</th>\n",
       "      <td>0.008690</td>\n",
       "      <td>ETA_BetaP_ns</td>\n",
       "    </tr>\n",
       "  </tbody>\n",
       "</table>\n",
       "</div>"
      ],
      "text/plain": [
       "     importance             var\n",
       "725    0.166251           WPATH\n",
       "105    0.060555           ECCEN\n",
       "294    0.046447            SaaO\n",
       "175    0.044679            naaO\n",
       "27     0.033630           ATSm2\n",
       "106    0.021073            nHBd\n",
       "66     0.018314           SCH-6\n",
       "678    0.017781         MLFER_L\n",
       "666    0.014898         MDEO-22\n",
       "28     0.014482           ATSm3\n",
       "606    0.013213  ETA_dEpsilon_D\n",
       "411    0.012976           mindO\n",
       "145    0.012893           nsCH3\n",
       "617    0.010783     ETA_Beta_ns\n",
       "722    0.010579          WTPT-3\n",
       "532    0.010550          maxaaO\n",
       "584    0.010174            gmax\n",
       "34     0.009634           ATSp4\n",
       "650    0.009545          nAtomP\n",
       "618    0.008690    ETA_BetaP_ns"
      ]
     },
     "execution_count": 17,
     "metadata": {},
     "output_type": "execute_result"
    }
   ],
   "source": [
    "xgbc_fea.head(20)"
   ]
  },
  {
   "cell_type": "code",
   "execution_count": 18,
   "id": "latin-boston",
   "metadata": {},
   "outputs": [
    {
     "data": {
      "text/html": [
       "<div>\n",
       "<style scoped>\n",
       "    .dataframe tbody tr th:only-of-type {\n",
       "        vertical-align: middle;\n",
       "    }\n",
       "\n",
       "    .dataframe tbody tr th {\n",
       "        vertical-align: top;\n",
       "    }\n",
       "\n",
       "    .dataframe thead th {\n",
       "        text-align: right;\n",
       "    }\n",
       "</style>\n",
       "<table border=\"1\" class=\"dataframe\">\n",
       "  <thead>\n",
       "    <tr style=\"text-align: right;\">\n",
       "      <th></th>\n",
       "      <th>importance</th>\n",
       "      <th>var</th>\n",
       "    </tr>\n",
       "  </thead>\n",
       "  <tbody>\n",
       "    <tr>\n",
       "      <th>105</th>\n",
       "      <td>0.037086</td>\n",
       "      <td>ECCEN</td>\n",
       "    </tr>\n",
       "    <tr>\n",
       "      <th>678</th>\n",
       "      <td>0.024139</td>\n",
       "      <td>MLFER_L</td>\n",
       "    </tr>\n",
       "    <tr>\n",
       "      <th>725</th>\n",
       "      <td>0.021416</td>\n",
       "      <td>WPATH</td>\n",
       "    </tr>\n",
       "    <tr>\n",
       "      <th>615</th>\n",
       "      <td>0.020833</td>\n",
       "      <td>ETA_Beta_s</td>\n",
       "    </tr>\n",
       "    <tr>\n",
       "      <th>88</th>\n",
       "      <td>0.019879</td>\n",
       "      <td>SP-1</td>\n",
       "    </tr>\n",
       "    <tr>\n",
       "      <th>630</th>\n",
       "      <td>0.018509</td>\n",
       "      <td>ETA_Eta_R_L</td>\n",
       "    </tr>\n",
       "    <tr>\n",
       "      <th>104</th>\n",
       "      <td>0.018237</td>\n",
       "      <td>CrippenMR</td>\n",
       "    </tr>\n",
       "    <tr>\n",
       "      <th>646</th>\n",
       "      <td>0.018131</td>\n",
       "      <td>Kier1</td>\n",
       "    </tr>\n",
       "    <tr>\n",
       "      <th>87</th>\n",
       "      <td>0.017235</td>\n",
       "      <td>SP-0</td>\n",
       "    </tr>\n",
       "    <tr>\n",
       "      <th>648</th>\n",
       "      <td>0.016966</td>\n",
       "      <td>Kier3</td>\n",
       "    </tr>\n",
       "    <tr>\n",
       "      <th>89</th>\n",
       "      <td>0.016445</td>\n",
       "      <td>SP-2</td>\n",
       "    </tr>\n",
       "    <tr>\n",
       "      <th>718</th>\n",
       "      <td>0.015186</td>\n",
       "      <td>VAdjMat</td>\n",
       "    </tr>\n",
       "    <tr>\n",
       "      <th>717</th>\n",
       "      <td>0.014932</td>\n",
       "      <td>VABC</td>\n",
       "    </tr>\n",
       "    <tr>\n",
       "      <th>96</th>\n",
       "      <td>0.012864</td>\n",
       "      <td>VP-1</td>\n",
       "    </tr>\n",
       "    <tr>\n",
       "      <th>720</th>\n",
       "      <td>0.012286</td>\n",
       "      <td>WTPT-1</td>\n",
       "    </tr>\n",
       "    <tr>\n",
       "      <th>27</th>\n",
       "      <td>0.012254</td>\n",
       "      <td>ATSm2</td>\n",
       "    </tr>\n",
       "    <tr>\n",
       "      <th>5</th>\n",
       "      <td>0.011551</td>\n",
       "      <td>naAromAtom</td>\n",
       "    </tr>\n",
       "    <tr>\n",
       "      <th>95</th>\n",
       "      <td>0.011097</td>\n",
       "      <td>VP-0</td>\n",
       "    </tr>\n",
       "    <tr>\n",
       "      <th>582</th>\n",
       "      <td>0.010301</td>\n",
       "      <td>sumI</td>\n",
       "    </tr>\n",
       "    <tr>\n",
       "      <th>653</th>\n",
       "      <td>0.010213</td>\n",
       "      <td>McGowan_Volume</td>\n",
       "    </tr>\n",
       "  </tbody>\n",
       "</table>\n",
       "</div>"
      ],
      "text/plain": [
       "     importance             var\n",
       "105    0.037086           ECCEN\n",
       "678    0.024139         MLFER_L\n",
       "725    0.021416           WPATH\n",
       "615    0.020833      ETA_Beta_s\n",
       "88     0.019879            SP-1\n",
       "630    0.018509     ETA_Eta_R_L\n",
       "104    0.018237       CrippenMR\n",
       "646    0.018131           Kier1\n",
       "87     0.017235            SP-0\n",
       "648    0.016966           Kier3\n",
       "89     0.016445            SP-2\n",
       "718    0.015186         VAdjMat\n",
       "717    0.014932            VABC\n",
       "96     0.012864            VP-1\n",
       "720    0.012286          WTPT-1\n",
       "27     0.012254           ATSm2\n",
       "5      0.011551      naAromAtom\n",
       "95     0.011097            VP-0\n",
       "582    0.010301            sumI\n",
       "653    0.010213  McGowan_Volume"
      ]
     },
     "execution_count": 18,
     "metadata": {},
     "output_type": "execute_result"
    }
   ],
   "source": [
    "rfc_fea.head(20)"
   ]
  },
  {
   "cell_type": "code",
   "execution_count": null,
   "id": "entire-taiwan",
   "metadata": {},
   "outputs": [],
   "source": []
  }
 ],
 "metadata": {
  "kernelspec": {
   "display_name": "Python [conda env:anaconda3]",
   "language": "python",
   "name": "conda-env-anaconda3-py"
  },
  "language_info": {
   "codemirror_mode": {
    "name": "ipython",
    "version": 3
   },
   "file_extension": ".py",
   "mimetype": "text/x-python",
   "name": "python",
   "nbconvert_exporter": "python",
   "pygments_lexer": "ipython3",
   "version": "3.8.8"
  }
 },
 "nbformat": 4,
 "nbformat_minor": 5
}
