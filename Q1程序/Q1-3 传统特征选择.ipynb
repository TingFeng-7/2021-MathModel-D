{
 "cells": [
  {
   "cell_type": "code",
   "execution_count": 1,
   "id": "designing-riding",
   "metadata": {},
   "outputs": [],
   "source": [
    "import numpy as np \n",
    "import pandas as pd\n",
    "pd.set_option('display.max_columns', None)\n",
    "#显示所有行\n",
    "pd.set_option('display.max_rows', None)\n",
    "#设置value的显示长度为100，默认为50\n",
    "pd.set_option('max_colwidth',100)"
   ]
  },
  {
   "cell_type": "code",
   "execution_count": 2,
   "id": "posted-assets",
   "metadata": {
    "tags": []
   },
   "outputs": [],
   "source": [
    "# data_df['IC50_nM'].describe().T.head()"
   ]
  },
  {
   "cell_type": "code",
   "execution_count": 3,
   "id": "twenty-savage",
   "metadata": {},
   "outputs": [],
   "source": [
    "#data_df = pd.read_csv(\"low_503.csv\")\n",
    "#data_df = pd.read_csv('pca_Q1_173.csv')\n",
    "data_df = pd.read_csv('ori_729.csv')"
   ]
  },
  {
   "cell_type": "code",
   "execution_count": 4,
   "id": "actual-literacy",
   "metadata": {},
   "outputs": [],
   "source": [
    "data_df = pd.read_csv('ori_729.csv')\n",
    "data_df.drop(labels='pIC50',inplace=True,axis=1)##删掉这玩意\n",
    "data_df_y = data_df['IC50_nM']\n",
    "data_df_x = data_df.drop(labels=['SMILES','IC50_nM'],axis=1)\n",
    "data_df_x.shape\n",
    "X,y = data_df_x , data_df_y\n",
    "xlist = X.columns"
   ]
  },
  {
   "cell_type": "code",
   "execution_count": 11,
   "id": "altered-condition",
   "metadata": {},
   "outputs": [
    {
     "data": {
      "text/plain": [
       "array([0], dtype=int64)"
      ]
     },
     "execution_count": 11,
     "metadata": {},
     "output_type": "execute_result"
    }
   ],
   "source": [
    "data_df_x.shape\n",
    "data_df['nB'].unique()"
   ]
  },
  {
   "cell_type": "markdown",
   "id": "sixth-likelihood",
   "metadata": {},
   "source": [
    "## 1.MIC最大互信息"
   ]
  },
  {
   "cell_type": "code",
   "execution_count": 6,
   "id": "understood-reflection",
   "metadata": {
    "tags": []
   },
   "outputs": [],
   "source": [
    "#mic最大信息\n",
    "from minepy import MINE\n",
    "import operator\n",
    "#算相关性的矩阵\n",
    "coff_data_df = data_df.drop(labels='SMILES',axis=1)\n",
    "features = data_df_x.columns #只取 x\n",
    "\n",
    "mine = MINE()\n",
    "mic_scores = []\n",
    "for feature_name in features:\n",
    "    mine.compute_score(coff_data_df.loc[:,feature_name],data_df_y)\n",
    "    mic_scores.append(mine.mic())"
   ]
  },
  {
   "cell_type": "code",
   "execution_count": 7,
   "id": "green-ceramic",
   "metadata": {
    "tags": []
   },
   "outputs": [
    {
     "name": "stdout",
     "output_type": "stream",
     "text": [
      "# MIC result\n",
      "['BCUTc-1l', 'BCUTc-1h', 'MDEC-23', 'minHsOH', 'SsOH', 'WTPT-5', 'SHsOH', 'LipoaffinityIndex', 'maxHsOH', 'MLogP', 'maxsOH', 'minsOH', 'MDEC-22', 'nC', 'maxHBa', 'gmax', 'TopoPSA', 'VABC', 'McGowan_Volume', 'MLFER_A', 'Kier1', 'apol', 'ATSp5', 'AMR', 'ETA_Eta_R', 'VP-0', 'BCUTp-1l', 'SP-0', 'BCUTw-1h', 'WTPT-1', 'ETA_Alpha', 'CrippenMR', 'C1SP2', 'SaaCH', 'SP-1', 'ETA_Eta_R_L', 'fragC', 'nHeavyAtom', 'VAdjMat', 'Zagreb']\n",
      "---------------------------------------------\n",
      "[('BCUTc-1l', 0.3938375609903433), ('BCUTc-1h', 0.3717326124796673), ('MDEC-23', 0.3393809665239051), ('minHsOH', 0.32999677193878485), ('SsOH', 0.3299709480067496), ('WTPT-5', 0.32962669655357907), ('SHsOH', 0.32567884478317394), ('LipoaffinityIndex', 0.319822104324189), ('maxHsOH', 0.3194005587580585), ('MLogP', 0.31936945065239764), ('maxsOH', 0.31571793052943853), ('minsOH', 0.30990708269191874), ('MDEC-22', 0.3086164449850388), ('nC', 0.30801101773263134), ('maxHBa', 0.3054198597730482), ('gmax', 0.30512220306914756), ('TopoPSA', 0.304105931496256), ('VABC', 0.2987904147223291), ('McGowan_Volume', 0.2972425619287665), ('MLFER_A', 0.29513018529199064), ('Kier1', 0.29453970409775326), ('apol', 0.2923867642361639), ('ATSp5', 0.29182663006417353), ('AMR', 0.29045979571454067), ('ETA_Eta_R', 0.29031075166084697), ('VP-0', 0.28942557834029664), ('BCUTp-1l', 0.2892877481698019), ('SP-0', 0.287868989562727), ('BCUTw-1h', 0.2876994860861266), ('WTPT-1', 0.28548399695417576), ('ETA_Alpha', 0.2845180077232124), ('CrippenMR', 0.282978726611269), ('C1SP2', 0.2828666497721136), ('SaaCH', 0.28198417548087196), ('SP-1', 0.2815957939779558), ('ETA_Eta_R_L', 0.2815957939779558), ('fragC', 0.2812650850166036), ('nHeavyAtom', 0.28039565911702996), ('VAdjMat', 0.28039565911702996), ('Zagreb', 0.27972593258964656)]\n"
     ]
    }
   ],
   "source": [
    "mic_result = sorted(list(zip(features,mic_scores)),key=operator.itemgetter(1),reverse=True)\n",
    "mic_sorted_attrs = [x[0] for x in mic_result]\n",
    "mic_ranking = [mic_sorted_attrs.index(x)+1 for x in features]\n",
    "print(\"# MIC result\")\n",
    "print(mic_sorted_attrs[0:40])\n",
    "#print(mic_ranking)\n",
    "print('---------------------------------------------')\n",
    "print(mic_result[0:40])"
   ]
  },
  {
   "cell_type": "markdown",
   "id": "interpreted-dinner",
   "metadata": {},
   "source": [
    "## 2.皮尔森系数"
   ]
  },
  {
   "cell_type": "code",
   "execution_count": 8,
   "id": "angry-terminal",
   "metadata": {
    "tags": []
   },
   "outputs": [
    {
     "name": "stdout",
     "output_type": "stream",
     "text": [
      "# Pearson result\n",
      "['nB', 'ATSc4', 'ATSc5', 'naAromAtom', 'nAromBond', 'CrippenLogP', 'nwHBa', 'SP-5', 'AMR', 'SP-7', 'nC', 'SP-4', 'CrippenMR', 'SP-1', 'ATSm2', 'ALogP', 'SP-3', 'ATSp1', 'ECCEN', 'ATSp2', 'nHBint6', 'nHBint10', 'nO', 'VP-1', 'SP-6', 'VP-4', 'nHBint4', 'nHeavyAtom', 'VP-5', 'ATSp3', 'VP-3', 'nX', 'ATSm3', 'apol', 'ATSp4', 'VP-0', 'nF', 'SP-2', 'SP-0', 'ATSm4']\n",
      "---------------------------------------------\n",
      "[('nB', nan), ('ATSc4', -0.0744746970407737), ('ATSc5', 0.07376303272484971), ('naAromAtom', -0.0665569666181238), ('nAromBond', -0.06549752562789408), ('CrippenLogP', -0.06240116330408948), ('nwHBa', -0.06085578444499766), ('SP-5', -0.03970990391194856), ('AMR', -0.039037846035027586), ('SP-7', -0.03856232686469302), ('nC', -0.03695038353417611), ('SP-4', -0.03452670529117235), ('CrippenMR', -0.03385996134396934), ('SP-1', -0.03383842882765993), ('ATSm2', -0.033779694080272954), ('ALogP', -0.03359041994709491), ('SP-3', -0.03304196444020681), ('ATSp1', -0.0326016179352079), ('ECCEN', -0.03238366251830409), ('ATSp2', -0.03219776186058428), ('nHBint6', 0.03199100000874139), ('nHBint10', -0.03153136392095577), ('nO', 0.03145724553151014), ('VP-1', -0.03143378038526557), ('SP-6', -0.031277072172723464), ('VP-4', -0.031157839937515776), ('nHBint4', 0.03035944066121598), ('nHeavyAtom', -0.030265614590626686), ('VP-5', -0.028792498934342457), ('ATSp3', -0.02858690031436574), ('VP-3', -0.028311294428707605), ('nX', -0.027746440973880626), ('ATSm3', -0.0274531818188386), ('apol', -0.026994135656354275), ('ATSp4', -0.025690117046516546), ('VP-0', -0.025102349975538972), ('nF', -0.024976667393714937), ('SP-2', -0.024712891490938513), ('SP-0', -0.02430318705867427), ('ATSm4', -0.023581450303058256)]\n"
     ]
    },
    {
     "name": "stderr",
     "output_type": "stream",
     "text": [
      "C:\\Users\\wtf\\Anaconda3\\lib\\site-packages\\scipy\\stats\\stats.py:3913: PearsonRConstantInputWarning: An input array is constant; the correlation coefficent is not defined.\n",
      "  warnings.warn(PearsonRConstantInputWarning())\n"
     ]
    }
   ],
   "source": [
    "from scipy.stats import pearsonr\n",
    "y_values = data_df_y.values\n",
    "pearsonr_feature_importance = [(column,pearsonr(data_df_x[column],y_values)[0]) for column in features ]\n",
    "pearsonr_feature_importance.sort(key=lambda x:abs(x[1]), reverse=True)\n",
    "pearson_sorted_attrs = [item[0] for item in pearsonr_feature_importance]\n",
    "pearson_ranking = [ pearson_sorted_attrs . index(x) + 1 for x in features]   \n",
    "print(\"# Pearson result\")\n",
    "print(pearson_sorted_attrs[0:40])\n",
    "print('---------------------------------------------')\n",
    "print(pearsonr_feature_importance[0:40])"
   ]
  },
  {
   "cell_type": "markdown",
   "id": "architectural-generic",
   "metadata": {},
   "source": [
    "## 3.两者取交集"
   ]
  },
  {
   "cell_type": "code",
   "execution_count": 9,
   "id": "given-martial",
   "metadata": {},
   "outputs": [
    {
     "data": {
      "text/plain": [
       "{'AMR',\n",
       " 'ATSm2',\n",
       " 'ATSp1',\n",
       " 'ATSp2',\n",
       " 'ATSp4',\n",
       " 'ATSp5',\n",
       " 'BCUTw-1h',\n",
       " 'CrippenMR',\n",
       " 'ECCEN',\n",
       " 'SP-0',\n",
       " 'SP-1',\n",
       " 'SP-2',\n",
       " 'SP-3',\n",
       " 'SP-4',\n",
       " 'SP-5',\n",
       " 'SP-6',\n",
       " 'SP-7',\n",
       " 'VP-0',\n",
       " 'VP-1',\n",
       " 'VP-2',\n",
       " 'apol',\n",
       " 'nAtom',\n",
       " 'nBase',\n",
       " 'nC',\n",
       " 'nHeavyAtom'}"
      ]
     },
     "execution_count": 9,
     "metadata": {},
     "output_type": "execute_result"
    }
   ],
   "source": [
    "pcc_set = set(pearson_sorted_attrs[0:80])\n",
    "mic_set = set(mic_sorted_attrs[0:80])\n",
    "pcc_set&mic_set"
   ]
  },
  {
   "cell_type": "code",
   "execution_count": null,
   "id": "located-sender",
   "metadata": {},
   "outputs": [],
   "source": []
  },
  {
   "cell_type": "code",
   "execution_count": null,
   "id": "theoretical-dream",
   "metadata": {},
   "outputs": [],
   "source": []
  },
  {
   "cell_type": "code",
   "execution_count": null,
   "id": "dominant-armenia",
   "metadata": {},
   "outputs": [],
   "source": []
  },
  {
   "cell_type": "code",
   "execution_count": null,
   "id": "suspended-clinic",
   "metadata": {},
   "outputs": [],
   "source": []
  },
  {
   "cell_type": "code",
   "execution_count": null,
   "id": "ethical-performance",
   "metadata": {},
   "outputs": [],
   "source": []
  },
  {
   "cell_type": "code",
   "execution_count": null,
   "id": "comparative-coaching",
   "metadata": {},
   "outputs": [],
   "source": []
  },
  {
   "cell_type": "code",
   "execution_count": 10,
   "id": "improved-wrestling",
   "metadata": {},
   "outputs": [
    {
     "ename": "SyntaxError",
     "evalue": "invalid syntax (<ipython-input-10-3bb8e2c6a13f>, line 3)",
     "output_type": "error",
     "traceback": [
      "\u001b[1;36m  File \u001b[1;32m\"<ipython-input-10-3bb8e2c6a13f>\"\u001b[1;36m, line \u001b[1;32m3\u001b[0m\n\u001b[1;33m    --------------------------------------------------------------------\u001b[0m\n\u001b[1;37m                                                                        ^\u001b[0m\n\u001b[1;31mSyntaxError\u001b[0m\u001b[1;31m:\u001b[0m invalid syntax\n"
     ]
    }
   ],
   "source": [
    "### --------------广雨部分在上----------------------------------------\n",
    "### -----------------------------------------------------------------\n",
    "--------------------------------------------------------------------"
   ]
  },
  {
   "cell_type": "code",
   "execution_count": null,
   "id": "friendly-carbon",
   "metadata": {
    "tags": []
   },
   "outputs": [],
   "source": [
    "from sklearn.metrics import r2_score,mean_squared_error\n",
    "\n",
    "def evaluate(data,model):\n",
    "    pre = model.predict(data)\n",
    "    pre_res = [round(res) for res in pre]\n",
    "    y = data.get_label()\n",
    "    acc = r2_score(y,pre_res)\n",
    "    return acc\n",
    "#先定义评价函数\n",
    "def print_r2_score(model,x_train,y_train,x_test,y_test):\n",
    "    print(model.score(x_train,y_train))\n",
    "    print(model.score(x_test,y_test))"
   ]
  },
  {
   "cell_type": "code",
   "execution_count": null,
   "id": "velvet-chest",
   "metadata": {},
   "outputs": [],
   "source": [
    "### 标准化"
   ]
  },
  {
   "cell_type": "code",
   "execution_count": null,
   "id": "classified-terrorism",
   "metadata": {},
   "outputs": [],
   "source": [
    "from sklearn.preprocessing import StandardScaler,MinMaxScaler\n",
    "from sklearn.model_selection import train_test_split\n",
    "#标准化 0.79\n",
    "#非标准化 0.80\n",
    "\n",
    "# std1 = MinMaxScaler()\n",
    "# X=std1.fit_transform(X)\n",
    "# std2 = MinMaxScaler()\n",
    "# y=std2.fit_transform(y.values.reshape(-1,1))\n",
    "x_train,x_test,y_train,y_test = train_test_split(X,y,test_size=0.1,random_state=666)\n",
    "\n",
    "# std1 = StandardScaler()\n",
    "# x_train = std1.fit_transform(x_train)\n",
    "# x_test = std1.transform(x_test)\n",
    "# std2 = StandardScaler()\n",
    "# y_train = std2.fit_transform(y_train.values.reshape(-1,1))  # 必须传二维\n",
    "# y_test = std2.transform(y_test.values.reshape(-1,1))"
   ]
  },
  {
   "cell_type": "code",
   "execution_count": null,
   "id": "ancient-bunch",
   "metadata": {
    "tags": []
   },
   "outputs": [],
   "source": [
    "%%time\n",
    "import xgboost as xgb\n",
    "from xgboost import plot_importance\n",
    "from xgboost import XGBRegressor as XGBR\n",
    "from matplotlib import pyplot as plt\n",
    "from sklearn.model_selection import KFold, cross_val_score as CVS\n",
    "from sklearn.metrics import mean_squared_error,r2_score\n",
    " \n",
    "\n",
    "#3. 网格搜索法\n",
    "\n",
    "\n",
    "#1.sklearn实现法\n",
    "xgbr = XGBR(n_estimators=100,max_depth=8, n_jobs=-1,learning_rate=0.15)\n",
    "xgbr.fit(x_train, y_train,\n",
    "        eval_set=[(x_train, y_train), (x_test, y_test)],\n",
    "        eval_metric='rmse',\n",
    "        verbose=False)\n",
    "evals_result = xgbr.evals_result()#fit中有eval_metric\n",
    "\n",
    "print_r2_score(xgbr,x_train,y_train,x_test,y_test)\n",
    "#CVS(xgbr,x_train, y_train,cv=10).mean()\n",
    "\n",
    "#2.xgb实现法\n",
    "# dtrain = xgb.DMatrix(x_train, y_train)\n",
    "# dtest = xgb.DMatrix(x_test, y_test)\n",
    "# param = {'verbosity':0\n",
    "#          , 'n_jobs' :-1\n",
    "#          ,'max_depth':3 \n",
    "#          ,'subsample':1,\n",
    "#          'min_child_weight':1\n",
    "#          ,'eta':0.1\n",
    "#          ,'objective': 'reg:linear'\n",
    "#          ,'nfold':5\n",
    "#          }\n",
    "\n",
    "# param1 = {'verbosity':0\n",
    "#          , 'n_jobs' :-1\n",
    "#          ,'max_depth':2 \n",
    "#          ,'subsample':1\n",
    "#          ,\"lambda\" :1\n",
    "#          ,'eta':0.3\n",
    "#          ,'objective': 'reg:linear'\n",
    "#          ,'nfold':5\n",
    "#          }\n",
    "\n",
    "# num_round = 1000\n",
    "# bst=xgb.cv(param , dtrain ,num_round)\n",
    "# #bst1=xgb.cv(param1 , dtrain ,num_round)"
   ]
  },
  {
   "cell_type": "code",
   "execution_count": null,
   "id": "according-group",
   "metadata": {},
   "outputs": [],
   "source": [
    "# import sklearn\n",
    "# sorted(sklearn.metrics.SCORERS.keys())"
   ]
  },
  {
   "cell_type": "markdown",
   "id": "cellular-vacation",
   "metadata": {},
   "source": [
    "## 3.网格搜索法"
   ]
  },
  {
   "cell_type": "code",
   "execution_count": null,
   "id": "plastic-equipment",
   "metadata": {
    "tags": []
   },
   "outputs": [],
   "source": [
    "# %%time\n",
    "# # 1.选出 n_estimators\n",
    "# from sklearn.model_selection import GridSearchCV\n",
    "# xgbr = XGBR()#1.定义分类器\n",
    "# tuned_parameters = {'n_estimators':[100,200]\n",
    "#                     ,'max_depth':[3]\n",
    "#                     ,'learning_rate':[0.05,0.1,0.15,0.2]}\n",
    "# #2.设置可调参数\n",
    "# reg = GridSearchCV(xgbr,tuned_parameters\n",
    "#                    ,scoring='neg_mean_squared_error',cv=5)\n",
    "# reg.fit(x_train,y_train)\n",
    "# reg.cv_results_\n",
    "# print(-reg.best_score_,reg.best_params_)"
   ]
  },
  {
   "cell_type": "code",
   "execution_count": null,
   "id": "blind-roots",
   "metadata": {
    "tags": []
   },
   "outputs": [],
   "source": [
    "#xgbr.feature_importances_"
   ]
  },
  {
   "cell_type": "code",
   "execution_count": null,
   "id": "mexican-christianity",
   "metadata": {
    "tags": []
   },
   "outputs": [],
   "source": [
    "im=pd.DataFrame({'importance':xgbr.feature_importances_,'var':xlist})\n",
    "im=im.sort_values(by='importance',ascending=False)\n",
    "im.head(20)"
   ]
  },
  {
   "cell_type": "code",
   "execution_count": null,
   "id": "norwegian-nightmare",
   "metadata": {},
   "outputs": [],
   "source": [
    "xgb.plot_importance(xgbr,max_num_features=20,importance_type='gain')"
   ]
  },
  {
   "cell_type": "code",
   "execution_count": null,
   "id": "affecting-spine",
   "metadata": {},
   "outputs": [],
   "source": [
    "xgb_sel=set(label[0:80])\n",
    "xgb_sel&mic_set"
   ]
  },
  {
   "cell_type": "code",
   "execution_count": null,
   "id": "enclosed-helena",
   "metadata": {},
   "outputs": [],
   "source": [
    "# ytrain_pred=xgbr.predict(Xtrain)\n",
    "# ytest_pred = xgbr.predict(Xtest)\n",
    "# r2_train = r2_score(ytrain_pred,ytrain)\n",
    "# r2_test = r2_score(ytest_pred,ytest)\n",
    "# print(r2_train)\n",
    "# print(r2_test)"
   ]
  },
  {
   "cell_type": "code",
   "execution_count": null,
   "id": "commercial-ceremony",
   "metadata": {},
   "outputs": [],
   "source": []
  }
 ],
 "metadata": {
  "kernelspec": {
   "display_name": "Python [conda env:anaconda3]",
   "language": "python",
   "name": "conda-env-anaconda3-py"
  },
  "language_info": {
   "codemirror_mode": {
    "name": "ipython",
    "version": 3
   },
   "file_extension": ".py",
   "mimetype": "text/x-python",
   "name": "python",
   "nbconvert_exporter": "python",
   "pygments_lexer": "ipython3",
   "version": "3.8.8"
  }
 },
 "nbformat": 4,
 "nbformat_minor": 5
}
