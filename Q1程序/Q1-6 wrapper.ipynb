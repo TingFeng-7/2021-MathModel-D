{
 "cells": [
  {
   "cell_type": "code",
   "execution_count": 1,
   "id": "vocational-disposition",
   "metadata": {},
   "outputs": [],
   "source": [
    "import numpy as np \n",
    "import pandas as pd\n",
    "pd.set_option('display.max_columns', None)\n",
    "#显示所有行\n",
    "pd.set_option('display.max_rows', None)\n",
    "#设置value的显示长度为100，默认为50\n",
    "pd.set_option('max_colwidth',100)"
   ]
  },
  {
   "cell_type": "code",
   "execution_count": 2,
   "id": "vocational-radical",
   "metadata": {
    "tags": []
   },
   "outputs": [],
   "source": [
    "# data_df['IC50_nM'].describe().T.head()"
   ]
  },
  {
   "cell_type": "code",
   "execution_count": 3,
   "id": "forty-theory",
   "metadata": {},
   "outputs": [],
   "source": [
    "#data_df = pd.read_csv(\"low_503.csv\")\n",
    "#data_df = pd.read_csv('pca_Q1_173.csv')\n",
    "data_df = pd.read_csv('ori_729.csv')"
   ]
  },
  {
   "cell_type": "code",
   "execution_count": 4,
   "id": "acceptable-graduate",
   "metadata": {},
   "outputs": [],
   "source": [
    "data_df.drop(labels='pIC50',inplace=True,axis=1)##删掉这玩意\n",
    "data_df_y = data_df['IC50_nM']\n",
    "data_df_x = data_df.drop(labels=['SMILES','IC50_nM'],axis=1)\n",
    "data_df_x.shape\n",
    "X,y = data_df_x , data_df_y\n",
    "xlist = X.columns"
   ]
  },
  {
   "cell_type": "code",
   "execution_count": 5,
   "id": "liquid-rover",
   "metadata": {},
   "outputs": [],
   "source": [
    "from sklearn.preprocessing import MinMaxScaler\n",
    "std1 = MinMaxScaler()\n",
    "X=std1.fit_transform(X)\n",
    "std2 = MinMaxScaler()\n",
    "y=std2.fit_transform(y.values.reshape(-1,1))"
   ]
  },
  {
   "cell_type": "code",
   "execution_count": null,
   "id": "affecting-impossible",
   "metadata": {},
   "outputs": [
    {
     "name": "stdout",
     "output_type": "stream",
     "text": [
      "Wall time: 0 ns\n"
     ]
    }
   ],
   "source": [
    "from xgboost import XGBRegressor as XGBR\n",
    "from sklearn import feature_selection\n",
    "from sklearn.model_selection import KFold, cross_val_score as CVS\n",
    "\n",
    "%time\n",
    "#1.sklearn实现法\n",
    "xgbr = XGBR(n_estimators=300,max_depth=6, n_jobs=-1,learning_rate=0.15)\n",
    "selector2 = feature_selection.RFECV(xgbr, min_features_to_select=20, step=1, cv=5)\n",
    "selector2= selector2.fit(X, y)"
   ]
  },
  {
   "cell_type": "code",
   "execution_count": null,
   "id": "sustainable-victorian",
   "metadata": {},
   "outputs": [],
   "source": []
  },
  {
   "cell_type": "code",
   "execution_count": 6,
   "id": "modern-dress",
   "metadata": {
    "tags": []
   },
   "outputs": [],
   "source": [
    "%%time\n",
    "from sklearn import linear_model\n",
    "from sklearn import feature_selection\n",
    "\n",
    "lasso_reg = linear_model.Lasso(alpha=0.1)\n",
    "selector = feature_selection.RFECV(lasso_reg, min_features_to_select=20, step=1, cv=5)\n",
    "selector = selector.fit(X, y)"
   ]
  },
  {
   "cell_type": "code",
   "execution_count": 9,
   "id": "brutal-genius",
   "metadata": {},
   "outputs": [
    {
     "name": "stdout",
     "output_type": "stream",
     "text": [
      "Wall time: 2min 12s\n"
     ]
    }
   ],
   "source": [
    "%%time\n",
    "from sklearn.svm import SVR\n",
    "\n",
    "\n",
    "ridge = linear_model.Ridge(alpha=.5)\n",
    "selector1 = feature_selection.RFECV(ridge, min_features_to_select=20, step=1, cv=5)\n",
    "selector1 = selector1.fit(X, y)\n",
    "\n"
   ]
  },
  {
   "cell_type": "code",
   "execution_count": 7,
   "id": "acquired-assessment",
   "metadata": {
    "collapsed": true,
    "jupyter": {
     "outputs_hidden": true,
     "source_hidden": true
    },
    "tags": []
   },
   "outputs": [
    {
     "name": "stdout",
     "output_type": "stream",
     "text": [
      "[False False False False False False False False False False False False\n",
      " False False False False False False False False False False False False\n",
      " False False False False False False False False False False False False\n",
      " False False False False False False False False False False False False\n",
      " False False False False False False False False False False False False\n",
      " False False False False False False False False False False False False\n",
      " False False False False False False False False False False False False\n",
      " False False False False False False False False False False False False\n",
      " False False False False False False False False False False False False\n",
      " False False False False False False False False False False False False\n",
      " False False False False False False False False False False False False\n",
      " False False False False False False False False False False False False\n",
      " False False False False False False False False False False False False\n",
      " False False False False False False False False False False False False\n",
      " False False False False False False False False False False False False\n",
      " False False False False False False False False False False False False\n",
      " False False False False False False False False False False False False\n",
      " False False False False False False False False False False False False\n",
      " False False False False False False False False False False False False\n",
      " False False False False False False False False False False False False\n",
      " False False False False False False False False False False False False\n",
      " False False False False False False False False False False False False\n",
      " False False False False False False False False False False False False\n",
      " False False False False False False False False False False False False\n",
      " False False False False False False False False False False False False\n",
      " False False False False False False False False False False False False\n",
      " False False False False False False False False False False False False\n",
      " False False False False False False False False False False False False\n",
      " False False False False False False False False False False False False\n",
      " False False False False False False False False False False False False\n",
      " False False False False False False False False False False False False\n",
      " False False False False False False False False False False False False\n",
      " False False False False False False False False False False False False\n",
      " False False False False False False False False False False False False\n",
      " False False False False False False False False False False False False\n",
      " False False False False False False False False False False False False\n",
      " False False False False False False False False False False False False\n",
      " False False False False False False False False False False False False\n",
      " False False False False False False False False False False False False\n",
      " False False False False False False False False False False False False\n",
      " False False False False False False False False False False False False\n",
      " False False False False False False False False False False False False\n",
      " False False False False False False False False False False False False\n",
      " False False False False False False False False False False False False\n",
      " False False False False False False False False False False False False\n",
      " False False False False False False False False False False False False\n",
      " False False False False False False False False False False False False\n",
      " False False False False False False False False False False False False\n",
      " False False False False False False False False False False False False\n",
      " False False False False False False False False False False False False\n",
      " False False False False False False False False False False False False\n",
      " False False False False False False False False False False False False\n",
      " False False False False False False False False False False False False\n",
      " False False False False False False False False False False False False\n",
      " False False False False False False False False False False False False\n",
      " False False False False False False False False False False False False\n",
      " False False False False False False False False False False False False\n",
      " False False False False False False False False False False False False\n",
      " False False False False False False False False False False False False\n",
      " False  True  True  True  True  True  True  True  True  True  True  True\n",
      "  True  True  True  True  True  True  True  True  True]\n"
     ]
    },
    {
     "data": {
      "text/plain": [
       "array([710, 709, 708, 707, 706, 705, 704, 703, 702, 701, 700, 699, 698,\n",
       "       697, 696, 695, 694, 693, 692, 691, 690, 689, 688, 687, 686, 685,\n",
       "       684, 683, 682, 681, 680, 679, 678, 677, 676, 675, 674, 673, 672,\n",
       "       671, 670, 669, 668, 667, 666, 665, 664, 663, 662, 661, 660, 659,\n",
       "       658, 657, 656, 655, 654, 653, 652, 651, 650, 649, 648, 647, 646,\n",
       "       645, 644, 643, 642, 641, 640, 639, 638, 637, 636, 635, 634, 633,\n",
       "       632, 631, 630, 629, 628, 627, 626, 625, 624, 623, 622, 621, 620,\n",
       "       619, 618, 617, 616, 615, 614, 613, 612, 611, 610, 609, 608, 607,\n",
       "       606, 605, 604, 603, 602, 601, 600, 599, 598, 597, 596, 595, 594,\n",
       "       593, 592, 591, 590, 589, 588, 587, 586, 585, 584, 583, 582, 581,\n",
       "       580, 579, 578, 577, 576, 575, 574, 573, 572, 571, 570, 569, 568,\n",
       "       567, 566, 565, 564, 563, 562, 561, 560, 559, 558, 557, 556, 555,\n",
       "       554, 553, 552, 551, 550, 549, 548, 547, 546, 545, 544, 543, 542,\n",
       "       541, 540, 539, 538, 537, 536, 535, 534, 533, 532, 531, 530, 529,\n",
       "       528, 527, 526, 525, 524, 523, 522, 521, 520, 519, 518, 517, 516,\n",
       "       515, 514, 513, 512, 511, 510, 509, 508, 507, 506, 505, 504, 503,\n",
       "       502, 501, 500, 499, 498, 497, 496, 495, 494, 493, 492, 491, 490,\n",
       "       489, 488, 487, 486, 485, 484, 483, 482, 481, 480, 479, 478, 477,\n",
       "       476, 475, 474, 473, 472, 471, 470, 469, 468, 467, 466, 465, 464,\n",
       "       463, 462, 461, 460, 459, 458, 457, 456, 455, 454, 453, 452, 451,\n",
       "       450, 449, 448, 447, 446, 445, 444, 443, 442, 441, 440, 439, 438,\n",
       "       437, 436, 435, 434, 433, 432, 431, 430, 429, 428, 427, 426, 425,\n",
       "       424, 423, 422, 421, 420, 419, 418, 417, 416, 415, 414, 413, 412,\n",
       "       411, 410, 409, 408, 407, 406, 405, 404, 403, 402, 401, 400, 399,\n",
       "       398, 397, 396, 395, 394, 393, 392, 391, 390, 389, 388, 387, 386,\n",
       "       385, 384, 383, 382, 381, 380, 379, 378, 377, 376, 375, 374, 373,\n",
       "       372, 371, 370, 369, 368, 367, 366, 365, 364, 363, 362, 361, 360,\n",
       "       359, 358, 357, 356, 355, 354, 353, 352, 351, 350, 349, 348, 347,\n",
       "       346, 345, 344, 343, 342, 341, 340, 339, 338, 337, 336, 335, 334,\n",
       "       333, 332, 331, 330, 329, 328, 327, 326, 325, 324, 323, 322, 321,\n",
       "       320, 319, 318, 317, 316, 315, 314, 313, 312, 311, 310, 309, 308,\n",
       "       307, 306, 305, 304, 303, 302, 301, 300, 299, 298, 297, 296, 295,\n",
       "       294, 293, 292, 291, 290, 289, 288, 287, 286, 285, 284, 283, 282,\n",
       "       281, 280, 279, 278, 277, 276, 275, 274, 273, 272, 271, 270, 269,\n",
       "       268, 267, 266, 265, 264, 263, 262, 261, 260, 259, 258, 257, 256,\n",
       "       255, 254, 253, 252, 251, 250, 249, 248, 247, 246, 245, 244, 243,\n",
       "       242, 241, 240, 239, 238, 237, 236, 235, 234, 233, 232, 231, 230,\n",
       "       229, 228, 227, 226, 225, 224, 223, 222, 221, 220, 219, 218, 217,\n",
       "       216, 215, 214, 213, 212, 211, 210, 209, 208, 207, 206, 205, 204,\n",
       "       203, 202, 201, 200, 199, 198, 197, 196, 195, 194, 193, 192, 191,\n",
       "       190, 189, 188, 187, 186, 185, 184, 183, 182, 181, 180, 179, 178,\n",
       "       177, 176, 175, 174, 173, 172, 171, 170, 169, 168, 167, 166, 165,\n",
       "       164, 163, 162, 161, 160, 159, 158, 157, 156, 155, 154, 153, 152,\n",
       "       151, 150, 149, 148, 147, 146, 145, 144, 143, 142, 141, 140, 139,\n",
       "       138, 137, 136, 135, 134, 133, 132, 131, 130, 129, 128, 127, 126,\n",
       "       125, 124, 123, 122, 121, 120, 119, 118, 117, 116, 115, 114, 113,\n",
       "       112, 111, 110, 109, 108, 107, 106, 105, 104, 103, 102, 101, 100,\n",
       "        99,  98,  97,  96,  95,  94,  93,  92,  91,  90,  89,  88,  87,\n",
       "        86,  85,  84,  83,  82,  81,  80,  79,  78,  77,  76,  75,  74,\n",
       "        73,  72,  71,  70,  69,  68,  67,  66,  65,  64,  63,  62,  61,\n",
       "        60,  59,  58,  57,  56,  55,  54,  53,  52,  51,  50,  49,  48,\n",
       "        47,  46,  45,  44,  43,  42,  41,  40,  39,  38,  37,  36,  35,\n",
       "        34,  33,  32,  31,  30,  29,  28,  27,  26,  25,  24,  23,  22,\n",
       "        21,  20,  19,  18,  17,  16,  15,  14,  13,  12,  11,  10,   9,\n",
       "         8,   7,   6,   5,   4,   3,   2,   1,   1,   1,   1,   1,   1,\n",
       "         1,   1,   1,   1,   1,   1,   1,   1,   1,   1,   1,   1,   1,\n",
       "         1])"
      ]
     },
     "execution_count": 7,
     "metadata": {},
     "output_type": "execute_result"
    }
   ],
   "source": [
    "print(selector.support_)\n",
    "selector.ranking_"
   ]
  },
  {
   "cell_type": "code",
   "execution_count": 10,
   "id": "rough-client",
   "metadata": {},
   "outputs": [
    {
     "name": "stdout",
     "output_type": "stream",
     "text": [
      "[False False False False False False False False False False False False\n",
      " False False False False False False False False False False False False\n",
      "  True  True False False False False False False False False False False\n",
      " False False False False False False False False False False False False\n",
      " False False False False False False False False False False False False\n",
      " False False  True False False False False False False False False False\n",
      " False False  True False False False False False  True False False False\n",
      " False False  True False False False False False False False False False\n",
      " False False False False False False False False False False False False\n",
      " False False False False False False False False False False False  True\n",
      " False False False False False False False False False False False False\n",
      " False False False False False False False False False False False False\n",
      " False False  True False False False False False False False False False\n",
      " False  True False False False False False False False False False False\n",
      " False False False False  True False False False False False False False\n",
      " False False False False False False False False False False False False\n",
      " False False  True False False False False False False False False False\n",
      " False False False False False False False False False False False False\n",
      " False False False False False False False False False False False False\n",
      " False False False False False  True False False False False  True False\n",
      " False False False False False False False False False False False False\n",
      " False False False False False False False False False False False False\n",
      " False False False False False False False False False False False False\n",
      " False False False False False False False False False False False False\n",
      " False False False False False False False False False False False False\n",
      " False False False False False False False False False False False False\n",
      " False False False False False False False False False False False False\n",
      " False False False False False False False False False False False False\n",
      " False False False False False False False False False False False False\n",
      " False False False False False False False False False False False False\n",
      " False False False False False False False  True False False False False\n",
      " False False False False False False False False False False False False\n",
      " False False False False False False False False False False False  True\n",
      " False False False False False False False False False False False False\n",
      " False False False False  True False False False False False False False\n",
      " False False False False False False False False False False False False\n",
      " False False False False False False False False False False False False\n",
      " False False False False False False False False False False False False\n",
      " False False False False False False False False False False False False\n",
      " False False False False False False False False False False False False\n",
      " False False False False False False False False False False False False\n",
      " False False False False False False False False False False False False\n",
      " False False False False False False False False False False False False\n",
      " False False False False False False False False False False False False\n",
      " False False False  True False False False False False False False False\n",
      " False False False False False False False False False False False False\n",
      " False False False False False False False False False False False False\n",
      " False False False False False False False False False False False False\n",
      " False False False False False False False False False False False False\n",
      " False False False False False False False False False False False False\n",
      " False False False False False False False False False False False False\n",
      "  True False False False False False False False False False False False\n",
      " False False False False False False False False False False False False\n",
      " False False False False False False False False False False False False\n",
      " False False False False False False False False False False False False\n",
      "  True False  True False False False False False False False False False\n",
      " False False False False False False False False False False False False\n",
      " False False False False False False False False False False False False\n",
      " False False False False False False False False False False False False\n",
      " False False False False False False False False False False False False\n",
      " False False False False False False False False False]\n"
     ]
    },
    {
     "data": {
      "text/plain": [
       "array([207,  15, 165, 300, 376,  24, 285, 380, 420, 307, 487, 401, 364,\n",
       "       269, 145, 475,  42,  33, 319, 426, 120, 456, 144,  45,   1,   1,\n",
       "       411, 430, 295, 342, 103, 210, 189, 167, 116, 158,  56, 467, 351,\n",
       "       155, 299,  37, 196, 410, 388, 357, 321, 367, 219, 134, 362, 559,\n",
       "       122, 318, 288, 372,  16, 462, 201,  82, 215, 104,   1, 339, 223,\n",
       "       397, 222,  81, 224, 484, 220, 236, 235, 471,   1,  25, 102, 194,\n",
       "         5,  38,   1, 483, 244, 232, 138,  21,   1, 427, 436, 384, 341,\n",
       "       326, 233,  99,  34, 417, 423, 385, 328, 170, 217,  17, 117,  93,\n",
       "       457, 392, 343, 293, 263, 202, 271, 280,  48, 135,  27, 159, 226,\n",
       "       439,  92,   1, 162, 390, 480,  58, 254, 695, 654, 655, 234,   8,\n",
       "       368, 214, 460, 282,  11,  54, 192, 626, 628, 630, 586, 587, 686,\n",
       "       687, 689,  46,   1, 479, 277, 337, 212, 322, 653, 371, 150, 142,\n",
       "       265,   1, 669, 481, 674, 197,  59, 266,  71, 688, 242, 406, 281,\n",
       "       700, 246, 333,   1,  74, 312, 455, 690, 298,  20, 637, 636, 621,\n",
       "       565, 593, 566, 564, 476, 514, 592, 409, 366, 110, 111,  79,   1,\n",
       "       611, 572,  57, 571, 588, 656, 596, 594, 600, 602, 598, 584, 583,\n",
       "       530, 648, 532, 534, 536, 543, 607, 121, 540, 544, 546, 548, 432,\n",
       "       552, 657, 554, 556,   6, 172, 163,  30, 272, 178,  83, 359,   1,\n",
       "        41,  14, 270,  44,   1, 268, 378, 451,  85, 414, 659, 661, 663,\n",
       "       191,   7,  19, 241,  43, 209, 262,  13, 325, 702, 704, 703, 701,\n",
       "       699, 635, 599, 527, 477,  51,  18, 190,  53, 112, 204, 562, 370,\n",
       "        86, 230,  95,   4, 665, 425, 563, 227,  60, 354, 389, 492, 428,\n",
       "       213, 286, 585,  84, 140,  91, 157, 260, 115, 691, 450,  73, 697,\n",
       "       698, 624, 623, 615, 616, 608, 470, 497, 537, 416, 331, 291, 296,\n",
       "       105, 305, 625, 627, 169, 631, 531, 505, 570, 609, 610, 667, 557,\n",
       "       506, 671, 518, 673, 589, 590, 677, 678, 679, 259, 681, 682, 683,\n",
       "       684, 433, 692, 645, 705, 706, 308, 249, 413, 203, 330, 179, 287,\n",
       "       438, 198, 394,  76, 237, 399,  97, 365, 361, 141, 195, 377, 709,\n",
       "       710, 708, 181,   1, 185,   2, 356,  87, 137,  69,   3, 676, 672,\n",
       "       670, 668, 666, 664, 662, 660,  90, 100, 129, 177,   9,  50, 131,\n",
       "       511, 228, 247, 463, 231,   1, 644, 482, 545, 461, 386, 434, 239,\n",
       "       658, 323, 473, 123, 495, 225, 314, 174, 422,   1, 403, 582, 437,\n",
       "       469, 606, 523, 533, 547, 529, 685, 693, 465, 680, 675, 327, 146,\n",
       "       304, 408, 125, 267, 652, 494, 320, 618, 617, 649, 650, 528, 512,\n",
       "       486, 525, 591, 647, 646, 502, 509, 489, 499, 634, 633, 289, 619,\n",
       "       620, 522, 496, 452, 500, 503, 504, 707,  65, 250, 180,  70, 273,\n",
       "       355, 349, 360, 199, 395,  77, 182, 248,  98, 443, 274,  61, 363,\n",
       "       255, 550, 551, 553, 176,  52, 119, 143, 132,  88, 136,  12, 149,\n",
       "       575, 576, 577, 694, 696, 578, 579, 574,  89,  62, 130, 173,  10,\n",
       "        39, 139, 612,  72, 151, 101, 340, 229, 638, 415, 640, 474, 387,\n",
       "       309, 345, 513, 243, 407, 124, 558, 303, 256, 175, 383,   1, 278,\n",
       "       569, 472, 208, 573, 601, 603, 488, 568, 517, 632, 493, 520, 521,\n",
       "       188, 275, 595, 567, 614, 613, 651, 519, 435, 639, 643, 642, 549,\n",
       "       541, 597, 605, 641, 538, 539, 524, 516, 526, 498, 508, 501, 490,\n",
       "       290, 561, 507, 491, 604, 580, 622, 629, 581, 510, 283, 168,  75,\n",
       "       344, 147, 161, 148, 398, 276, 294, 245, 332, 485, 126, 258, 106,\n",
       "       264, 324, 153,  55,  66, 206,  32, 107,  49,  67,  36, 128,  68,\n",
       "       257,   1, 464, 113, 404, 200, 347,  22, 311,  80, 187, 186, 358,\n",
       "       166, 468, 346, 313, 405, 183, 431, 279, 127, 306,  29, 317, 152,\n",
       "       334, 171, 108, 253, 238, 292, 352, 375,  31, 441, 381, 211, 118,\n",
       "       336,  64, 109, 421,  28,  40,  47, 391, 393, 353,   1, 379,   1,\n",
       "       350, 418, 154, 261,  94, 329, 240, 348, 310, 184, 301, 412, 338,\n",
       "       448, 205, 252, 369, 454, 382, 396, 218, 374, 478, 160, 560, 555,\n",
       "       515, 297,  78, 429, 542, 535, 193, 440, 458, 316, 447, 445,  96,\n",
       "       133, 446, 419, 221, 302, 373, 315, 216, 459, 453, 251,  26, 335,\n",
       "       164, 442, 466,  23, 449, 424,  35, 284, 114, 444, 156, 400,  63,\n",
       "       402])"
      ]
     },
     "execution_count": 10,
     "metadata": {},
     "output_type": "execute_result"
    }
   ],
   "source": [
    "print(selector1.support_)\n",
    "selector1.ranking_"
   ]
  },
  {
   "cell_type": "code",
   "execution_count": null,
   "id": "transsexual-phenomenon",
   "metadata": {},
   "outputs": [],
   "source": []
  }
 ],
 "metadata": {
  "kernelspec": {
   "display_name": "Python [conda env:anaconda3]",
   "language": "python",
   "name": "conda-env-anaconda3-py"
  },
  "language_info": {
   "codemirror_mode": {
    "name": "ipython",
    "version": 3
   },
   "file_extension": ".py",
   "mimetype": "text/x-python",
   "name": "python",
   "nbconvert_exporter": "python",
   "pygments_lexer": "ipython3",
   "version": "3.8.8"
  }
 },
 "nbformat": 4,
 "nbformat_minor": 5
}
